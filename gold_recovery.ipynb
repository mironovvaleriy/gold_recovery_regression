{
 "cells": [
  {
   "cell_type": "code",
   "execution_count": 2,
   "id": "f9e837c5",
   "metadata": {},
   "outputs": [],
   "source": [
    "import pandas as pd\n",
    "\n",
    "from sklearn.metrics import mean_absolute_error\n",
    "from sklearn.tree import DecisionTreeRegressor\n",
    "from sklearn.linear_model import LinearRegression\n",
    "from sklearn.ensemble import RandomForestRegressor\n",
    "from sklearn.model_selection import cross_val_score, GridSearchCV\n",
    "from sklearn.metrics import make_scorer\n",
    "from sklearn.dummy import DummyRegressor\n",
    "\n",
    "import plotly.graph_objs as go\n",
    "from plotly.subplots import make_subplots"
   ]
  },
  {
   "cell_type": "markdown",
   "id": "2a6ca6de",
   "metadata": {},
   "source": [
    "## Импорт и первичный анализ данных"
   ]
  },
  {
   "cell_type": "code",
   "execution_count": 3,
   "id": "c3b69d4b",
   "metadata": {},
   "outputs": [],
   "source": [
    "df_train = pd.read_csv('/datasets/gold_recovery_train_new.csv')\n",
    "df_test = pd.read_csv('/datasets/gold_recovery_test_new.csv')\n",
    "df_full = pd.read_csv('/datasets/gold_recovery_full_new.csv')"
   ]
  },
  {
   "cell_type": "markdown",
   "id": "3f442b87",
   "metadata": {},
   "source": [
    "Посмотрим на наши данные. Видим достаточно большое количество пропущенных знаний, некоторые столбцы в df_test отсутствуют."
   ]
  },
  {
   "cell_type": "code",
   "execution_count": 4,
   "id": "99f0dd63",
   "metadata": {},
   "outputs": [
    {
     "name": "stdout",
     "output_type": "stream",
     "text": [
      "Обучающая выборка\n",
      "<class 'pandas.core.frame.DataFrame'>\n",
      "RangeIndex: 14149 entries, 0 to 14148\n",
      "Data columns (total 87 columns):\n",
      " #   Column                                              Non-Null Count  Dtype  \n",
      "---  ------                                              --------------  -----  \n",
      " 0   date                                                14149 non-null  object \n",
      " 1   final.output.concentrate_ag                         14148 non-null  float64\n",
      " 2   final.output.concentrate_pb                         14148 non-null  float64\n",
      " 3   final.output.concentrate_sol                        13938 non-null  float64\n",
      " 4   final.output.concentrate_au                         14149 non-null  float64\n",
      " 5   final.output.recovery                               14149 non-null  float64\n",
      " 6   final.output.tail_ag                                14149 non-null  float64\n",
      " 7   final.output.tail_pb                                14049 non-null  float64\n",
      " 8   final.output.tail_sol                               14144 non-null  float64\n",
      " 9   final.output.tail_au                                14149 non-null  float64\n",
      " 10  primary_cleaner.input.sulfate                       14129 non-null  float64\n",
      " 11  primary_cleaner.input.depressant                    14117 non-null  float64\n",
      " 12  primary_cleaner.input.feed_size                     14149 non-null  float64\n",
      " 13  primary_cleaner.input.xanthate                      14049 non-null  float64\n",
      " 14  primary_cleaner.output.concentrate_ag               14149 non-null  float64\n",
      " 15  primary_cleaner.output.concentrate_pb               14063 non-null  float64\n",
      " 16  primary_cleaner.output.concentrate_sol              13863 non-null  float64\n",
      " 17  primary_cleaner.output.concentrate_au               14149 non-null  float64\n",
      " 18  primary_cleaner.output.tail_ag                      14148 non-null  float64\n",
      " 19  primary_cleaner.output.tail_pb                      14134 non-null  float64\n",
      " 20  primary_cleaner.output.tail_sol                     14103 non-null  float64\n",
      " 21  primary_cleaner.output.tail_au                      14149 non-null  float64\n",
      " 22  primary_cleaner.state.floatbank8_a_air              14145 non-null  float64\n",
      " 23  primary_cleaner.state.floatbank8_a_level            14148 non-null  float64\n",
      " 24  primary_cleaner.state.floatbank8_b_air              14145 non-null  float64\n",
      " 25  primary_cleaner.state.floatbank8_b_level            14148 non-null  float64\n",
      " 26  primary_cleaner.state.floatbank8_c_air              14147 non-null  float64\n",
      " 27  primary_cleaner.state.floatbank8_c_level            14148 non-null  float64\n",
      " 28  primary_cleaner.state.floatbank8_d_air              14146 non-null  float64\n",
      " 29  primary_cleaner.state.floatbank8_d_level            14148 non-null  float64\n",
      " 30  rougher.calculation.sulfate_to_au_concentrate       14148 non-null  float64\n",
      " 31  rougher.calculation.floatbank10_sulfate_to_au_feed  14148 non-null  float64\n",
      " 32  rougher.calculation.floatbank11_sulfate_to_au_feed  14148 non-null  float64\n",
      " 33  rougher.calculation.au_pb_ratio                     14149 non-null  float64\n",
      " 34  rougher.input.feed_ag                               14149 non-null  float64\n",
      " 35  rougher.input.feed_pb                               14049 non-null  float64\n",
      " 36  rougher.input.feed_rate                             14141 non-null  float64\n",
      " 37  rougher.input.feed_size                             14005 non-null  float64\n",
      " 38  rougher.input.feed_sol                              14071 non-null  float64\n",
      " 39  rougher.input.feed_au                               14149 non-null  float64\n",
      " 40  rougher.input.floatbank10_sulfate                   14120 non-null  float64\n",
      " 41  rougher.input.floatbank10_xanthate                  14141 non-null  float64\n",
      " 42  rougher.input.floatbank11_sulfate                   14113 non-null  float64\n",
      " 43  rougher.input.floatbank11_xanthate                  13721 non-null  float64\n",
      " 44  rougher.output.concentrate_ag                       14149 non-null  float64\n",
      " 45  rougher.output.concentrate_pb                       14149 non-null  float64\n",
      " 46  rougher.output.concentrate_sol                      14127 non-null  float64\n",
      " 47  rougher.output.concentrate_au                       14149 non-null  float64\n",
      " 48  rougher.output.recovery                             14149 non-null  float64\n",
      " 49  rougher.output.tail_ag                              14148 non-null  float64\n",
      " 50  rougher.output.tail_pb                              14149 non-null  float64\n",
      " 51  rougher.output.tail_sol                             14149 non-null  float64\n",
      " 52  rougher.output.tail_au                              14149 non-null  float64\n",
      " 53  rougher.state.floatbank10_a_air                     14148 non-null  float64\n",
      " 54  rougher.state.floatbank10_a_level                   14148 non-null  float64\n",
      " 55  rougher.state.floatbank10_b_air                     14148 non-null  float64\n",
      " 56  rougher.state.floatbank10_b_level                   14148 non-null  float64\n",
      " 57  rougher.state.floatbank10_c_air                     14148 non-null  float64\n",
      " 58  rougher.state.floatbank10_c_level                   14148 non-null  float64\n",
      " 59  rougher.state.floatbank10_d_air                     14149 non-null  float64\n",
      " 60  rougher.state.floatbank10_d_level                   14149 non-null  float64\n",
      " 61  rougher.state.floatbank10_e_air                     13713 non-null  float64\n",
      " 62  rougher.state.floatbank10_e_level                   14149 non-null  float64\n",
      " 63  rougher.state.floatbank10_f_air                     14149 non-null  float64\n",
      " 64  rougher.state.floatbank10_f_level                   14149 non-null  float64\n",
      " 65  secondary_cleaner.output.tail_ag                    14147 non-null  float64\n",
      " 66  secondary_cleaner.output.tail_pb                    14139 non-null  float64\n",
      " 67  secondary_cleaner.output.tail_sol                   12544 non-null  float64\n",
      " 68  secondary_cleaner.output.tail_au                    14149 non-null  float64\n",
      " 69  secondary_cleaner.state.floatbank2_a_air            13932 non-null  float64\n",
      " 70  secondary_cleaner.state.floatbank2_a_level          14148 non-null  float64\n",
      " 71  secondary_cleaner.state.floatbank2_b_air            14128 non-null  float64\n",
      " 72  secondary_cleaner.state.floatbank2_b_level          14148 non-null  float64\n",
      " 73  secondary_cleaner.state.floatbank3_a_air            14145 non-null  float64\n",
      " 74  secondary_cleaner.state.floatbank3_a_level          14148 non-null  float64\n",
      " 75  secondary_cleaner.state.floatbank3_b_air            14148 non-null  float64\n",
      " 76  secondary_cleaner.state.floatbank3_b_level          14148 non-null  float64\n",
      " 77  secondary_cleaner.state.floatbank4_a_air            14143 non-null  float64\n",
      " 78  secondary_cleaner.state.floatbank4_a_level          14148 non-null  float64\n",
      " 79  secondary_cleaner.state.floatbank4_b_air            14148 non-null  float64\n",
      " 80  secondary_cleaner.state.floatbank4_b_level          14148 non-null  float64\n",
      " 81  secondary_cleaner.state.floatbank5_a_air            14148 non-null  float64\n",
      " 82  secondary_cleaner.state.floatbank5_a_level          14148 non-null  float64\n",
      " 83  secondary_cleaner.state.floatbank5_b_air            14148 non-null  float64\n",
      " 84  secondary_cleaner.state.floatbank5_b_level          14148 non-null  float64\n",
      " 85  secondary_cleaner.state.floatbank6_a_air            14147 non-null  float64\n",
      " 86  secondary_cleaner.state.floatbank6_a_level          14148 non-null  float64\n",
      "dtypes: float64(86), object(1)\n",
      "memory usage: 9.4+ MB\n",
      "****************************************************************************************************\n",
      "Тестовая выборка\n",
      "<class 'pandas.core.frame.DataFrame'>\n",
      "RangeIndex: 5290 entries, 0 to 5289\n",
      "Data columns (total 53 columns):\n",
      " #   Column                                      Non-Null Count  Dtype  \n",
      "---  ------                                      --------------  -----  \n",
      " 0   date                                        5290 non-null   object \n",
      " 1   primary_cleaner.input.sulfate               5286 non-null   float64\n",
      " 2   primary_cleaner.input.depressant            5285 non-null   float64\n",
      " 3   primary_cleaner.input.feed_size             5290 non-null   float64\n",
      " 4   primary_cleaner.input.xanthate              5286 non-null   float64\n",
      " 5   primary_cleaner.state.floatbank8_a_air      5290 non-null   float64\n",
      " 6   primary_cleaner.state.floatbank8_a_level    5290 non-null   float64\n",
      " 7   primary_cleaner.state.floatbank8_b_air      5290 non-null   float64\n",
      " 8   primary_cleaner.state.floatbank8_b_level    5290 non-null   float64\n",
      " 9   primary_cleaner.state.floatbank8_c_air      5290 non-null   float64\n",
      " 10  primary_cleaner.state.floatbank8_c_level    5290 non-null   float64\n",
      " 11  primary_cleaner.state.floatbank8_d_air      5290 non-null   float64\n",
      " 12  primary_cleaner.state.floatbank8_d_level    5290 non-null   float64\n",
      " 13  rougher.input.feed_ag                       5290 non-null   float64\n",
      " 14  rougher.input.feed_pb                       5290 non-null   float64\n",
      " 15  rougher.input.feed_rate                     5287 non-null   float64\n",
      " 16  rougher.input.feed_size                     5289 non-null   float64\n",
      " 17  rougher.input.feed_sol                      5269 non-null   float64\n",
      " 18  rougher.input.feed_au                       5290 non-null   float64\n",
      " 19  rougher.input.floatbank10_sulfate           5285 non-null   float64\n",
      " 20  rougher.input.floatbank10_xanthate          5290 non-null   float64\n",
      " 21  rougher.input.floatbank11_sulfate           5282 non-null   float64\n",
      " 22  rougher.input.floatbank11_xanthate          5265 non-null   float64\n",
      " 23  rougher.state.floatbank10_a_air             5290 non-null   float64\n",
      " 24  rougher.state.floatbank10_a_level           5290 non-null   float64\n",
      " 25  rougher.state.floatbank10_b_air             5290 non-null   float64\n",
      " 26  rougher.state.floatbank10_b_level           5290 non-null   float64\n",
      " 27  rougher.state.floatbank10_c_air             5290 non-null   float64\n",
      " 28  rougher.state.floatbank10_c_level           5290 non-null   float64\n",
      " 29  rougher.state.floatbank10_d_air             5290 non-null   float64\n",
      " 30  rougher.state.floatbank10_d_level           5290 non-null   float64\n",
      " 31  rougher.state.floatbank10_e_air             5290 non-null   float64\n",
      " 32  rougher.state.floatbank10_e_level           5290 non-null   float64\n",
      " 33  rougher.state.floatbank10_f_air             5290 non-null   float64\n",
      " 34  rougher.state.floatbank10_f_level           5290 non-null   float64\n",
      " 35  secondary_cleaner.state.floatbank2_a_air    5287 non-null   float64\n",
      " 36  secondary_cleaner.state.floatbank2_a_level  5290 non-null   float64\n",
      " 37  secondary_cleaner.state.floatbank2_b_air    5288 non-null   float64\n",
      " 38  secondary_cleaner.state.floatbank2_b_level  5290 non-null   float64\n",
      " 39  secondary_cleaner.state.floatbank3_a_air    5281 non-null   float64\n",
      " 40  secondary_cleaner.state.floatbank3_a_level  5290 non-null   float64\n",
      " 41  secondary_cleaner.state.floatbank3_b_air    5290 non-null   float64\n",
      " 42  secondary_cleaner.state.floatbank3_b_level  5290 non-null   float64\n",
      " 43  secondary_cleaner.state.floatbank4_a_air    5290 non-null   float64\n",
      " 44  secondary_cleaner.state.floatbank4_a_level  5290 non-null   float64\n",
      " 45  secondary_cleaner.state.floatbank4_b_air    5290 non-null   float64\n",
      " 46  secondary_cleaner.state.floatbank4_b_level  5290 non-null   float64\n",
      " 47  secondary_cleaner.state.floatbank5_a_air    5290 non-null   float64\n",
      " 48  secondary_cleaner.state.floatbank5_a_level  5290 non-null   float64\n",
      " 49  secondary_cleaner.state.floatbank5_b_air    5290 non-null   float64\n",
      " 50  secondary_cleaner.state.floatbank5_b_level  5290 non-null   float64\n",
      " 51  secondary_cleaner.state.floatbank6_a_air    5290 non-null   float64\n",
      " 52  secondary_cleaner.state.floatbank6_a_level  5290 non-null   float64\n",
      "dtypes: float64(52), object(1)\n",
      "memory usage: 2.1+ MB\n",
      "****************************************************************************************************\n",
      "Полный датасет\n",
      "<class 'pandas.core.frame.DataFrame'>\n",
      "RangeIndex: 19439 entries, 0 to 19438\n",
      "Data columns (total 87 columns):\n",
      " #   Column                                              Non-Null Count  Dtype  \n",
      "---  ------                                              --------------  -----  \n",
      " 0   date                                                19439 non-null  object \n",
      " 1   final.output.concentrate_ag                         19438 non-null  float64\n",
      " 2   final.output.concentrate_pb                         19438 non-null  float64\n",
      " 3   final.output.concentrate_sol                        19228 non-null  float64\n",
      " 4   final.output.concentrate_au                         19439 non-null  float64\n",
      " 5   final.output.recovery                               19439 non-null  float64\n",
      " 6   final.output.tail_ag                                19438 non-null  float64\n",
      " 7   final.output.tail_pb                                19338 non-null  float64\n",
      " 8   final.output.tail_sol                               19433 non-null  float64\n",
      " 9   final.output.tail_au                                19439 non-null  float64\n",
      " 10  primary_cleaner.input.sulfate                       19415 non-null  float64\n",
      " 11  primary_cleaner.input.depressant                    19402 non-null  float64\n",
      " 12  primary_cleaner.input.feed_size                     19439 non-null  float64\n",
      " 13  primary_cleaner.input.xanthate                      19335 non-null  float64\n",
      " 14  primary_cleaner.output.concentrate_ag               19439 non-null  float64\n",
      " 15  primary_cleaner.output.concentrate_pb               19323 non-null  float64\n",
      " 16  primary_cleaner.output.concentrate_sol              19069 non-null  float64\n",
      " 17  primary_cleaner.output.concentrate_au               19439 non-null  float64\n",
      " 18  primary_cleaner.output.tail_ag                      19435 non-null  float64\n",
      " 19  primary_cleaner.output.tail_pb                      19418 non-null  float64\n",
      " 20  primary_cleaner.output.tail_sol                     19377 non-null  float64\n",
      " 21  primary_cleaner.output.tail_au                      19439 non-null  float64\n",
      " 22  primary_cleaner.state.floatbank8_a_air              19435 non-null  float64\n",
      " 23  primary_cleaner.state.floatbank8_a_level            19438 non-null  float64\n",
      " 24  primary_cleaner.state.floatbank8_b_air              19435 non-null  float64\n",
      " 25  primary_cleaner.state.floatbank8_b_level            19438 non-null  float64\n",
      " 26  primary_cleaner.state.floatbank8_c_air              19437 non-null  float64\n",
      " 27  primary_cleaner.state.floatbank8_c_level            19438 non-null  float64\n",
      " 28  primary_cleaner.state.floatbank8_d_air              19436 non-null  float64\n",
      " 29  primary_cleaner.state.floatbank8_d_level            19438 non-null  float64\n",
      " 30  rougher.calculation.sulfate_to_au_concentrate       19437 non-null  float64\n",
      " 31  rougher.calculation.floatbank10_sulfate_to_au_feed  19437 non-null  float64\n",
      " 32  rougher.calculation.floatbank11_sulfate_to_au_feed  19437 non-null  float64\n",
      " 33  rougher.calculation.au_pb_ratio                     19439 non-null  float64\n",
      " 34  rougher.input.feed_ag                               19439 non-null  float64\n",
      " 35  rougher.input.feed_pb                               19339 non-null  float64\n",
      " 36  rougher.input.feed_rate                             19428 non-null  float64\n",
      " 37  rougher.input.feed_size                             19294 non-null  float64\n",
      " 38  rougher.input.feed_sol                              19340 non-null  float64\n",
      " 39  rougher.input.feed_au                               19439 non-null  float64\n",
      " 40  rougher.input.floatbank10_sulfate                   19405 non-null  float64\n",
      " 41  rougher.input.floatbank10_xanthate                  19431 non-null  float64\n",
      " 42  rougher.input.floatbank11_sulfate                   19395 non-null  float64\n",
      " 43  rougher.input.floatbank11_xanthate                  18986 non-null  float64\n",
      " 44  rougher.output.concentrate_ag                       19439 non-null  float64\n",
      " 45  rougher.output.concentrate_pb                       19439 non-null  float64\n",
      " 46  rougher.output.concentrate_sol                      19416 non-null  float64\n",
      " 47  rougher.output.concentrate_au                       19439 non-null  float64\n",
      " 48  rougher.output.recovery                             19439 non-null  float64\n",
      " 49  rougher.output.tail_ag                              19438 non-null  float64\n",
      " 50  rougher.output.tail_pb                              19439 non-null  float64\n",
      " 51  rougher.output.tail_sol                             19439 non-null  float64\n",
      " 52  rougher.output.tail_au                              19439 non-null  float64\n",
      " 53  rougher.state.floatbank10_a_air                     19438 non-null  float64\n",
      " 54  rougher.state.floatbank10_a_level                   19438 non-null  float64\n",
      " 55  rougher.state.floatbank10_b_air                     19438 non-null  float64\n",
      " 56  rougher.state.floatbank10_b_level                   19438 non-null  float64\n",
      " 57  rougher.state.floatbank10_c_air                     19438 non-null  float64\n",
      " 58  rougher.state.floatbank10_c_level                   19438 non-null  float64\n",
      " 59  rougher.state.floatbank10_d_air                     19439 non-null  float64\n",
      " 60  rougher.state.floatbank10_d_level                   19439 non-null  float64\n",
      " 61  rougher.state.floatbank10_e_air                     19003 non-null  float64\n",
      " 62  rougher.state.floatbank10_e_level                   19439 non-null  float64\n",
      " 63  rougher.state.floatbank10_f_air                     19439 non-null  float64\n",
      " 64  rougher.state.floatbank10_f_level                   19439 non-null  float64\n",
      " 65  secondary_cleaner.output.tail_ag                    19437 non-null  float64\n",
      " 66  secondary_cleaner.output.tail_pb                    19427 non-null  float64\n",
      " 67  secondary_cleaner.output.tail_sol                   17691 non-null  float64\n",
      " 68  secondary_cleaner.output.tail_au                    19439 non-null  float64\n",
      " 69  secondary_cleaner.state.floatbank2_a_air            19219 non-null  float64\n",
      " 70  secondary_cleaner.state.floatbank2_a_level          19438 non-null  float64\n",
      " 71  secondary_cleaner.state.floatbank2_b_air            19416 non-null  float64\n",
      " 72  secondary_cleaner.state.floatbank2_b_level          19438 non-null  float64\n",
      " 73  secondary_cleaner.state.floatbank3_a_air            19426 non-null  float64\n",
      " 74  secondary_cleaner.state.floatbank3_a_level          19438 non-null  float64\n",
      " 75  secondary_cleaner.state.floatbank3_b_air            19438 non-null  float64\n",
      " 76  secondary_cleaner.state.floatbank3_b_level          19438 non-null  float64\n",
      " 77  secondary_cleaner.state.floatbank4_a_air            19433 non-null  float64\n",
      " 78  secondary_cleaner.state.floatbank4_a_level          19438 non-null  float64\n",
      " 79  secondary_cleaner.state.floatbank4_b_air            19438 non-null  float64\n",
      " 80  secondary_cleaner.state.floatbank4_b_level          19438 non-null  float64\n",
      " 81  secondary_cleaner.state.floatbank5_a_air            19438 non-null  float64\n",
      " 82  secondary_cleaner.state.floatbank5_a_level          19438 non-null  float64\n",
      " 83  secondary_cleaner.state.floatbank5_b_air            19438 non-null  float64\n",
      " 84  secondary_cleaner.state.floatbank5_b_level          19438 non-null  float64\n",
      " 85  secondary_cleaner.state.floatbank6_a_air            19437 non-null  float64\n",
      " 86  secondary_cleaner.state.floatbank6_a_level          19438 non-null  float64\n",
      "dtypes: float64(86), object(1)\n",
      "memory usage: 12.9+ MB\n"
     ]
    }
   ],
   "source": [
    "print('Обучающая выборка')\n",
    "df_train.info()\n",
    "print('*'*100)\n",
    "print('Тестовая выборка')\n",
    "df_test.info()\n",
    "print('*'*100)\n",
    "print('Полный датасет')\n",
    "df_full.info()"
   ]
  },
  {
   "cell_type": "code",
   "execution_count": 5,
   "id": "a8a403b1",
   "metadata": {},
   "outputs": [
    {
     "name": "stdout",
     "output_type": "stream",
     "text": [
      "Обучающая выборка\n"
     ]
    },
    {
     "data": {
      "text/html": [
       "<div>\n",
       "<style scoped>\n",
       "    .dataframe tbody tr th:only-of-type {\n",
       "        vertical-align: middle;\n",
       "    }\n",
       "\n",
       "    .dataframe tbody tr th {\n",
       "        vertical-align: top;\n",
       "    }\n",
       "\n",
       "    .dataframe thead th {\n",
       "        text-align: right;\n",
       "    }\n",
       "</style>\n",
       "<table border=\"1\" class=\"dataframe\">\n",
       "  <thead>\n",
       "    <tr style=\"text-align: right;\">\n",
       "      <th></th>\n",
       "      <th>date</th>\n",
       "      <th>final.output.concentrate_ag</th>\n",
       "      <th>final.output.concentrate_pb</th>\n",
       "      <th>final.output.concentrate_sol</th>\n",
       "      <th>final.output.concentrate_au</th>\n",
       "      <th>final.output.recovery</th>\n",
       "      <th>final.output.tail_ag</th>\n",
       "      <th>final.output.tail_pb</th>\n",
       "      <th>final.output.tail_sol</th>\n",
       "      <th>final.output.tail_au</th>\n",
       "      <th>...</th>\n",
       "      <th>secondary_cleaner.state.floatbank4_a_air</th>\n",
       "      <th>secondary_cleaner.state.floatbank4_a_level</th>\n",
       "      <th>secondary_cleaner.state.floatbank4_b_air</th>\n",
       "      <th>secondary_cleaner.state.floatbank4_b_level</th>\n",
       "      <th>secondary_cleaner.state.floatbank5_a_air</th>\n",
       "      <th>secondary_cleaner.state.floatbank5_a_level</th>\n",
       "      <th>secondary_cleaner.state.floatbank5_b_air</th>\n",
       "      <th>secondary_cleaner.state.floatbank5_b_level</th>\n",
       "      <th>secondary_cleaner.state.floatbank6_a_air</th>\n",
       "      <th>secondary_cleaner.state.floatbank6_a_level</th>\n",
       "    </tr>\n",
       "  </thead>\n",
       "  <tbody>\n",
       "    <tr>\n",
       "      <th>0</th>\n",
       "      <td>2016-01-15 00:00:00</td>\n",
       "      <td>6.055403</td>\n",
       "      <td>9.889648</td>\n",
       "      <td>5.507324</td>\n",
       "      <td>42.192020</td>\n",
       "      <td>70.541216</td>\n",
       "      <td>10.411962</td>\n",
       "      <td>0.895447</td>\n",
       "      <td>16.904297</td>\n",
       "      <td>2.143149</td>\n",
       "      <td>...</td>\n",
       "      <td>14.016835</td>\n",
       "      <td>-502.488007</td>\n",
       "      <td>12.099931</td>\n",
       "      <td>-504.715942</td>\n",
       "      <td>9.925633</td>\n",
       "      <td>-498.310211</td>\n",
       "      <td>8.079666</td>\n",
       "      <td>-500.470978</td>\n",
       "      <td>14.151341</td>\n",
       "      <td>-605.841980</td>\n",
       "    </tr>\n",
       "    <tr>\n",
       "      <th>1</th>\n",
       "      <td>2016-01-15 01:00:00</td>\n",
       "      <td>6.029369</td>\n",
       "      <td>9.968944</td>\n",
       "      <td>5.257781</td>\n",
       "      <td>42.701629</td>\n",
       "      <td>69.266198</td>\n",
       "      <td>10.462676</td>\n",
       "      <td>0.927452</td>\n",
       "      <td>16.634514</td>\n",
       "      <td>2.224930</td>\n",
       "      <td>...</td>\n",
       "      <td>13.992281</td>\n",
       "      <td>-505.503262</td>\n",
       "      <td>11.950531</td>\n",
       "      <td>-501.331529</td>\n",
       "      <td>10.039245</td>\n",
       "      <td>-500.169983</td>\n",
       "      <td>7.984757</td>\n",
       "      <td>-500.582168</td>\n",
       "      <td>13.998353</td>\n",
       "      <td>-599.787184</td>\n",
       "    </tr>\n",
       "    <tr>\n",
       "      <th>2</th>\n",
       "      <td>2016-01-15 02:00:00</td>\n",
       "      <td>6.055926</td>\n",
       "      <td>10.213995</td>\n",
       "      <td>5.383759</td>\n",
       "      <td>42.657501</td>\n",
       "      <td>68.116445</td>\n",
       "      <td>10.507046</td>\n",
       "      <td>0.953716</td>\n",
       "      <td>16.208849</td>\n",
       "      <td>2.257889</td>\n",
       "      <td>...</td>\n",
       "      <td>14.015015</td>\n",
       "      <td>-502.520901</td>\n",
       "      <td>11.912783</td>\n",
       "      <td>-501.133383</td>\n",
       "      <td>10.070913</td>\n",
       "      <td>-500.129135</td>\n",
       "      <td>8.013877</td>\n",
       "      <td>-500.517572</td>\n",
       "      <td>14.028663</td>\n",
       "      <td>-601.427363</td>\n",
       "    </tr>\n",
       "  </tbody>\n",
       "</table>\n",
       "<p>3 rows × 87 columns</p>\n",
       "</div>"
      ],
      "text/plain": [
       "                  date  final.output.concentrate_ag  \\\n",
       "0  2016-01-15 00:00:00                     6.055403   \n",
       "1  2016-01-15 01:00:00                     6.029369   \n",
       "2  2016-01-15 02:00:00                     6.055926   \n",
       "\n",
       "   final.output.concentrate_pb  final.output.concentrate_sol  \\\n",
       "0                     9.889648                      5.507324   \n",
       "1                     9.968944                      5.257781   \n",
       "2                    10.213995                      5.383759   \n",
       "\n",
       "   final.output.concentrate_au  final.output.recovery  final.output.tail_ag  \\\n",
       "0                    42.192020              70.541216             10.411962   \n",
       "1                    42.701629              69.266198             10.462676   \n",
       "2                    42.657501              68.116445             10.507046   \n",
       "\n",
       "   final.output.tail_pb  final.output.tail_sol  final.output.tail_au  ...  \\\n",
       "0              0.895447              16.904297              2.143149  ...   \n",
       "1              0.927452              16.634514              2.224930  ...   \n",
       "2              0.953716              16.208849              2.257889  ...   \n",
       "\n",
       "   secondary_cleaner.state.floatbank4_a_air  \\\n",
       "0                                 14.016835   \n",
       "1                                 13.992281   \n",
       "2                                 14.015015   \n",
       "\n",
       "   secondary_cleaner.state.floatbank4_a_level  \\\n",
       "0                                 -502.488007   \n",
       "1                                 -505.503262   \n",
       "2                                 -502.520901   \n",
       "\n",
       "   secondary_cleaner.state.floatbank4_b_air  \\\n",
       "0                                 12.099931   \n",
       "1                                 11.950531   \n",
       "2                                 11.912783   \n",
       "\n",
       "   secondary_cleaner.state.floatbank4_b_level  \\\n",
       "0                                 -504.715942   \n",
       "1                                 -501.331529   \n",
       "2                                 -501.133383   \n",
       "\n",
       "   secondary_cleaner.state.floatbank5_a_air  \\\n",
       "0                                  9.925633   \n",
       "1                                 10.039245   \n",
       "2                                 10.070913   \n",
       "\n",
       "   secondary_cleaner.state.floatbank5_a_level  \\\n",
       "0                                 -498.310211   \n",
       "1                                 -500.169983   \n",
       "2                                 -500.129135   \n",
       "\n",
       "   secondary_cleaner.state.floatbank5_b_air  \\\n",
       "0                                  8.079666   \n",
       "1                                  7.984757   \n",
       "2                                  8.013877   \n",
       "\n",
       "   secondary_cleaner.state.floatbank5_b_level  \\\n",
       "0                                 -500.470978   \n",
       "1                                 -500.582168   \n",
       "2                                 -500.517572   \n",
       "\n",
       "   secondary_cleaner.state.floatbank6_a_air  \\\n",
       "0                                 14.151341   \n",
       "1                                 13.998353   \n",
       "2                                 14.028663   \n",
       "\n",
       "   secondary_cleaner.state.floatbank6_a_level  \n",
       "0                                 -605.841980  \n",
       "1                                 -599.787184  \n",
       "2                                 -601.427363  \n",
       "\n",
       "[3 rows x 87 columns]"
      ]
     },
     "metadata": {},
     "output_type": "display_data"
    },
    {
     "name": "stdout",
     "output_type": "stream",
     "text": [
      "****************************************************************************************************\n",
      "Тестовая выборка\n"
     ]
    },
    {
     "data": {
      "text/html": [
       "<div>\n",
       "<style scoped>\n",
       "    .dataframe tbody tr th:only-of-type {\n",
       "        vertical-align: middle;\n",
       "    }\n",
       "\n",
       "    .dataframe tbody tr th {\n",
       "        vertical-align: top;\n",
       "    }\n",
       "\n",
       "    .dataframe thead th {\n",
       "        text-align: right;\n",
       "    }\n",
       "</style>\n",
       "<table border=\"1\" class=\"dataframe\">\n",
       "  <thead>\n",
       "    <tr style=\"text-align: right;\">\n",
       "      <th></th>\n",
       "      <th>date</th>\n",
       "      <th>primary_cleaner.input.sulfate</th>\n",
       "      <th>primary_cleaner.input.depressant</th>\n",
       "      <th>primary_cleaner.input.feed_size</th>\n",
       "      <th>primary_cleaner.input.xanthate</th>\n",
       "      <th>primary_cleaner.state.floatbank8_a_air</th>\n",
       "      <th>primary_cleaner.state.floatbank8_a_level</th>\n",
       "      <th>primary_cleaner.state.floatbank8_b_air</th>\n",
       "      <th>primary_cleaner.state.floatbank8_b_level</th>\n",
       "      <th>primary_cleaner.state.floatbank8_c_air</th>\n",
       "      <th>...</th>\n",
       "      <th>secondary_cleaner.state.floatbank4_a_air</th>\n",
       "      <th>secondary_cleaner.state.floatbank4_a_level</th>\n",
       "      <th>secondary_cleaner.state.floatbank4_b_air</th>\n",
       "      <th>secondary_cleaner.state.floatbank4_b_level</th>\n",
       "      <th>secondary_cleaner.state.floatbank5_a_air</th>\n",
       "      <th>secondary_cleaner.state.floatbank5_a_level</th>\n",
       "      <th>secondary_cleaner.state.floatbank5_b_air</th>\n",
       "      <th>secondary_cleaner.state.floatbank5_b_level</th>\n",
       "      <th>secondary_cleaner.state.floatbank6_a_air</th>\n",
       "      <th>secondary_cleaner.state.floatbank6_a_level</th>\n",
       "    </tr>\n",
       "  </thead>\n",
       "  <tbody>\n",
       "    <tr>\n",
       "      <th>0</th>\n",
       "      <td>2016-09-01 00:59:59</td>\n",
       "      <td>210.800909</td>\n",
       "      <td>14.993118</td>\n",
       "      <td>8.080000</td>\n",
       "      <td>1.005021</td>\n",
       "      <td>1398.981301</td>\n",
       "      <td>-500.225577</td>\n",
       "      <td>1399.144926</td>\n",
       "      <td>-499.919735</td>\n",
       "      <td>1400.102998</td>\n",
       "      <td>...</td>\n",
       "      <td>12.023554</td>\n",
       "      <td>-497.795834</td>\n",
       "      <td>8.016656</td>\n",
       "      <td>-501.289139</td>\n",
       "      <td>7.946562</td>\n",
       "      <td>-432.317850</td>\n",
       "      <td>4.872511</td>\n",
       "      <td>-500.037437</td>\n",
       "      <td>26.705889</td>\n",
       "      <td>-499.709414</td>\n",
       "    </tr>\n",
       "    <tr>\n",
       "      <th>1</th>\n",
       "      <td>2016-09-01 01:59:59</td>\n",
       "      <td>215.392455</td>\n",
       "      <td>14.987471</td>\n",
       "      <td>8.080000</td>\n",
       "      <td>0.990469</td>\n",
       "      <td>1398.777912</td>\n",
       "      <td>-500.057435</td>\n",
       "      <td>1398.055362</td>\n",
       "      <td>-499.778182</td>\n",
       "      <td>1396.151033</td>\n",
       "      <td>...</td>\n",
       "      <td>12.058140</td>\n",
       "      <td>-498.695773</td>\n",
       "      <td>8.130979</td>\n",
       "      <td>-499.634209</td>\n",
       "      <td>7.958270</td>\n",
       "      <td>-525.839648</td>\n",
       "      <td>4.878850</td>\n",
       "      <td>-500.162375</td>\n",
       "      <td>25.019940</td>\n",
       "      <td>-499.819438</td>\n",
       "    </tr>\n",
       "    <tr>\n",
       "      <th>2</th>\n",
       "      <td>2016-09-01 02:59:59</td>\n",
       "      <td>215.259946</td>\n",
       "      <td>12.884934</td>\n",
       "      <td>7.786667</td>\n",
       "      <td>0.996043</td>\n",
       "      <td>1398.493666</td>\n",
       "      <td>-500.868360</td>\n",
       "      <td>1398.860436</td>\n",
       "      <td>-499.764529</td>\n",
       "      <td>1398.075709</td>\n",
       "      <td>...</td>\n",
       "      <td>11.962366</td>\n",
       "      <td>-498.767484</td>\n",
       "      <td>8.096893</td>\n",
       "      <td>-500.827423</td>\n",
       "      <td>8.071056</td>\n",
       "      <td>-500.801673</td>\n",
       "      <td>4.905125</td>\n",
       "      <td>-499.828510</td>\n",
       "      <td>24.994862</td>\n",
       "      <td>-500.622559</td>\n",
       "    </tr>\n",
       "  </tbody>\n",
       "</table>\n",
       "<p>3 rows × 53 columns</p>\n",
       "</div>"
      ],
      "text/plain": [
       "                  date  primary_cleaner.input.sulfate  \\\n",
       "0  2016-09-01 00:59:59                     210.800909   \n",
       "1  2016-09-01 01:59:59                     215.392455   \n",
       "2  2016-09-01 02:59:59                     215.259946   \n",
       "\n",
       "   primary_cleaner.input.depressant  primary_cleaner.input.feed_size  \\\n",
       "0                         14.993118                         8.080000   \n",
       "1                         14.987471                         8.080000   \n",
       "2                         12.884934                         7.786667   \n",
       "\n",
       "   primary_cleaner.input.xanthate  primary_cleaner.state.floatbank8_a_air  \\\n",
       "0                        1.005021                             1398.981301   \n",
       "1                        0.990469                             1398.777912   \n",
       "2                        0.996043                             1398.493666   \n",
       "\n",
       "   primary_cleaner.state.floatbank8_a_level  \\\n",
       "0                               -500.225577   \n",
       "1                               -500.057435   \n",
       "2                               -500.868360   \n",
       "\n",
       "   primary_cleaner.state.floatbank8_b_air  \\\n",
       "0                             1399.144926   \n",
       "1                             1398.055362   \n",
       "2                             1398.860436   \n",
       "\n",
       "   primary_cleaner.state.floatbank8_b_level  \\\n",
       "0                               -499.919735   \n",
       "1                               -499.778182   \n",
       "2                               -499.764529   \n",
       "\n",
       "   primary_cleaner.state.floatbank8_c_air  ...  \\\n",
       "0                             1400.102998  ...   \n",
       "1                             1396.151033  ...   \n",
       "2                             1398.075709  ...   \n",
       "\n",
       "   secondary_cleaner.state.floatbank4_a_air  \\\n",
       "0                                 12.023554   \n",
       "1                                 12.058140   \n",
       "2                                 11.962366   \n",
       "\n",
       "   secondary_cleaner.state.floatbank4_a_level  \\\n",
       "0                                 -497.795834   \n",
       "1                                 -498.695773   \n",
       "2                                 -498.767484   \n",
       "\n",
       "   secondary_cleaner.state.floatbank4_b_air  \\\n",
       "0                                  8.016656   \n",
       "1                                  8.130979   \n",
       "2                                  8.096893   \n",
       "\n",
       "   secondary_cleaner.state.floatbank4_b_level  \\\n",
       "0                                 -501.289139   \n",
       "1                                 -499.634209   \n",
       "2                                 -500.827423   \n",
       "\n",
       "   secondary_cleaner.state.floatbank5_a_air  \\\n",
       "0                                  7.946562   \n",
       "1                                  7.958270   \n",
       "2                                  8.071056   \n",
       "\n",
       "   secondary_cleaner.state.floatbank5_a_level  \\\n",
       "0                                 -432.317850   \n",
       "1                                 -525.839648   \n",
       "2                                 -500.801673   \n",
       "\n",
       "   secondary_cleaner.state.floatbank5_b_air  \\\n",
       "0                                  4.872511   \n",
       "1                                  4.878850   \n",
       "2                                  4.905125   \n",
       "\n",
       "   secondary_cleaner.state.floatbank5_b_level  \\\n",
       "0                                 -500.037437   \n",
       "1                                 -500.162375   \n",
       "2                                 -499.828510   \n",
       "\n",
       "   secondary_cleaner.state.floatbank6_a_air  \\\n",
       "0                                 26.705889   \n",
       "1                                 25.019940   \n",
       "2                                 24.994862   \n",
       "\n",
       "   secondary_cleaner.state.floatbank6_a_level  \n",
       "0                                 -499.709414  \n",
       "1                                 -499.819438  \n",
       "2                                 -500.622559  \n",
       "\n",
       "[3 rows x 53 columns]"
      ]
     },
     "metadata": {},
     "output_type": "display_data"
    },
    {
     "name": "stdout",
     "output_type": "stream",
     "text": [
      "****************************************************************************************************\n",
      "Полный датасет\n"
     ]
    },
    {
     "data": {
      "text/html": [
       "<div>\n",
       "<style scoped>\n",
       "    .dataframe tbody tr th:only-of-type {\n",
       "        vertical-align: middle;\n",
       "    }\n",
       "\n",
       "    .dataframe tbody tr th {\n",
       "        vertical-align: top;\n",
       "    }\n",
       "\n",
       "    .dataframe thead th {\n",
       "        text-align: right;\n",
       "    }\n",
       "</style>\n",
       "<table border=\"1\" class=\"dataframe\">\n",
       "  <thead>\n",
       "    <tr style=\"text-align: right;\">\n",
       "      <th></th>\n",
       "      <th>date</th>\n",
       "      <th>final.output.concentrate_ag</th>\n",
       "      <th>final.output.concentrate_pb</th>\n",
       "      <th>final.output.concentrate_sol</th>\n",
       "      <th>final.output.concentrate_au</th>\n",
       "      <th>final.output.recovery</th>\n",
       "      <th>final.output.tail_ag</th>\n",
       "      <th>final.output.tail_pb</th>\n",
       "      <th>final.output.tail_sol</th>\n",
       "      <th>final.output.tail_au</th>\n",
       "      <th>...</th>\n",
       "      <th>secondary_cleaner.state.floatbank4_a_air</th>\n",
       "      <th>secondary_cleaner.state.floatbank4_a_level</th>\n",
       "      <th>secondary_cleaner.state.floatbank4_b_air</th>\n",
       "      <th>secondary_cleaner.state.floatbank4_b_level</th>\n",
       "      <th>secondary_cleaner.state.floatbank5_a_air</th>\n",
       "      <th>secondary_cleaner.state.floatbank5_a_level</th>\n",
       "      <th>secondary_cleaner.state.floatbank5_b_air</th>\n",
       "      <th>secondary_cleaner.state.floatbank5_b_level</th>\n",
       "      <th>secondary_cleaner.state.floatbank6_a_air</th>\n",
       "      <th>secondary_cleaner.state.floatbank6_a_level</th>\n",
       "    </tr>\n",
       "  </thead>\n",
       "  <tbody>\n",
       "    <tr>\n",
       "      <th>0</th>\n",
       "      <td>2016-01-15 00:00:00</td>\n",
       "      <td>6.055403</td>\n",
       "      <td>9.889648</td>\n",
       "      <td>5.507324</td>\n",
       "      <td>42.192020</td>\n",
       "      <td>70.541216</td>\n",
       "      <td>10.411962</td>\n",
       "      <td>0.895447</td>\n",
       "      <td>16.904297</td>\n",
       "      <td>2.143149</td>\n",
       "      <td>...</td>\n",
       "      <td>14.016835</td>\n",
       "      <td>-502.488007</td>\n",
       "      <td>12.099931</td>\n",
       "      <td>-504.715942</td>\n",
       "      <td>9.925633</td>\n",
       "      <td>-498.310211</td>\n",
       "      <td>8.079666</td>\n",
       "      <td>-500.470978</td>\n",
       "      <td>14.151341</td>\n",
       "      <td>-605.841980</td>\n",
       "    </tr>\n",
       "    <tr>\n",
       "      <th>1</th>\n",
       "      <td>2016-01-15 01:00:00</td>\n",
       "      <td>6.029369</td>\n",
       "      <td>9.968944</td>\n",
       "      <td>5.257781</td>\n",
       "      <td>42.701629</td>\n",
       "      <td>69.266198</td>\n",
       "      <td>10.462676</td>\n",
       "      <td>0.927452</td>\n",
       "      <td>16.634514</td>\n",
       "      <td>2.224930</td>\n",
       "      <td>...</td>\n",
       "      <td>13.992281</td>\n",
       "      <td>-505.503262</td>\n",
       "      <td>11.950531</td>\n",
       "      <td>-501.331529</td>\n",
       "      <td>10.039245</td>\n",
       "      <td>-500.169983</td>\n",
       "      <td>7.984757</td>\n",
       "      <td>-500.582168</td>\n",
       "      <td>13.998353</td>\n",
       "      <td>-599.787184</td>\n",
       "    </tr>\n",
       "    <tr>\n",
       "      <th>2</th>\n",
       "      <td>2016-01-15 02:00:00</td>\n",
       "      <td>6.055926</td>\n",
       "      <td>10.213995</td>\n",
       "      <td>5.383759</td>\n",
       "      <td>42.657501</td>\n",
       "      <td>68.116445</td>\n",
       "      <td>10.507046</td>\n",
       "      <td>0.953716</td>\n",
       "      <td>16.208849</td>\n",
       "      <td>2.257889</td>\n",
       "      <td>...</td>\n",
       "      <td>14.015015</td>\n",
       "      <td>-502.520901</td>\n",
       "      <td>11.912783</td>\n",
       "      <td>-501.133383</td>\n",
       "      <td>10.070913</td>\n",
       "      <td>-500.129135</td>\n",
       "      <td>8.013877</td>\n",
       "      <td>-500.517572</td>\n",
       "      <td>14.028663</td>\n",
       "      <td>-601.427363</td>\n",
       "    </tr>\n",
       "  </tbody>\n",
       "</table>\n",
       "<p>3 rows × 87 columns</p>\n",
       "</div>"
      ],
      "text/plain": [
       "                  date  final.output.concentrate_ag  \\\n",
       "0  2016-01-15 00:00:00                     6.055403   \n",
       "1  2016-01-15 01:00:00                     6.029369   \n",
       "2  2016-01-15 02:00:00                     6.055926   \n",
       "\n",
       "   final.output.concentrate_pb  final.output.concentrate_sol  \\\n",
       "0                     9.889648                      5.507324   \n",
       "1                     9.968944                      5.257781   \n",
       "2                    10.213995                      5.383759   \n",
       "\n",
       "   final.output.concentrate_au  final.output.recovery  final.output.tail_ag  \\\n",
       "0                    42.192020              70.541216             10.411962   \n",
       "1                    42.701629              69.266198             10.462676   \n",
       "2                    42.657501              68.116445             10.507046   \n",
       "\n",
       "   final.output.tail_pb  final.output.tail_sol  final.output.tail_au  ...  \\\n",
       "0              0.895447              16.904297              2.143149  ...   \n",
       "1              0.927452              16.634514              2.224930  ...   \n",
       "2              0.953716              16.208849              2.257889  ...   \n",
       "\n",
       "   secondary_cleaner.state.floatbank4_a_air  \\\n",
       "0                                 14.016835   \n",
       "1                                 13.992281   \n",
       "2                                 14.015015   \n",
       "\n",
       "   secondary_cleaner.state.floatbank4_a_level  \\\n",
       "0                                 -502.488007   \n",
       "1                                 -505.503262   \n",
       "2                                 -502.520901   \n",
       "\n",
       "   secondary_cleaner.state.floatbank4_b_air  \\\n",
       "0                                 12.099931   \n",
       "1                                 11.950531   \n",
       "2                                 11.912783   \n",
       "\n",
       "   secondary_cleaner.state.floatbank4_b_level  \\\n",
       "0                                 -504.715942   \n",
       "1                                 -501.331529   \n",
       "2                                 -501.133383   \n",
       "\n",
       "   secondary_cleaner.state.floatbank5_a_air  \\\n",
       "0                                  9.925633   \n",
       "1                                 10.039245   \n",
       "2                                 10.070913   \n",
       "\n",
       "   secondary_cleaner.state.floatbank5_a_level  \\\n",
       "0                                 -498.310211   \n",
       "1                                 -500.169983   \n",
       "2                                 -500.129135   \n",
       "\n",
       "   secondary_cleaner.state.floatbank5_b_air  \\\n",
       "0                                  8.079666   \n",
       "1                                  7.984757   \n",
       "2                                  8.013877   \n",
       "\n",
       "   secondary_cleaner.state.floatbank5_b_level  \\\n",
       "0                                 -500.470978   \n",
       "1                                 -500.582168   \n",
       "2                                 -500.517572   \n",
       "\n",
       "   secondary_cleaner.state.floatbank6_a_air  \\\n",
       "0                                 14.151341   \n",
       "1                                 13.998353   \n",
       "2                                 14.028663   \n",
       "\n",
       "   secondary_cleaner.state.floatbank6_a_level  \n",
       "0                                 -605.841980  \n",
       "1                                 -599.787184  \n",
       "2                                 -601.427363  \n",
       "\n",
       "[3 rows x 87 columns]"
      ]
     },
     "metadata": {},
     "output_type": "display_data"
    }
   ],
   "source": [
    "print('Обучающая выборка')\n",
    "display(df_train.head(3))\n",
    "print('*'*100)\n",
    "print('Тестовая выборка')\n",
    "display(df_test.head(3))\n",
    "print('*'*100)\n",
    "print('Полный датасет')\n",
    "display(df_full.head(3))"
   ]
  },
  {
   "cell_type": "code",
   "execution_count": 6,
   "id": "6ad30369",
   "metadata": {},
   "outputs": [],
   "source": [
    "# сохраним изначальное количество объектов для проверки потери данных\n",
    "df_train_before = df_train.shape[0]"
   ]
  },
  {
   "cell_type": "markdown",
   "id": "3efe57b9",
   "metadata": {},
   "source": [
    "## Предобработка данных"
   ]
  },
  {
   "cell_type": "markdown",
   "id": "2dc14eda",
   "metadata": {},
   "source": [
    "Сразу приведем названия полей к более удобному виду."
   ]
  },
  {
   "cell_type": "code",
   "execution_count": 7,
   "id": "c4656595",
   "metadata": {
    "scrolled": true
   },
   "outputs": [],
   "source": [
    "df_train.columns = df_train.columns.str.replace('.','_')\n",
    "df_test.columns = df_test.columns.str.replace('.','_')\n",
    "df_full.columns = df_full.columns.str.replace('.','_')"
   ]
  },
  {
   "cell_type": "markdown",
   "id": "427e1594",
   "metadata": {},
   "source": [
    "Посмотрим на общую картину по пропущенным значениям в полях."
   ]
  },
  {
   "cell_type": "code",
   "execution_count": 8,
   "id": "9e71cc22",
   "metadata": {},
   "outputs": [],
   "source": [
    "def search_na(df):\n",
    "        \n",
    "    dict = {}\n",
    "        \n",
    "    for column in df:\n",
    "        if df[column].isna().sum() > 0:\n",
    "            dict[column] = df[column].isna().sum()\n",
    "                \n",
    "    dict = {k: v for k, v in sorted(dict.items(), key=lambda item: item[1], reverse=True)}\n",
    "    display(dict)\n",
    "        \n",
    "    na_perc = df.isna().any(axis=1).sum() / df.shape[0]\n",
    "    display(f'Общий % строк с пропусками: {na_perc:.2%}')\n",
    "        \n",
    "    display('*'*100)"
   ]
  },
  {
   "cell_type": "code",
   "execution_count": 9,
   "id": "c45f2f25",
   "metadata": {},
   "outputs": [
    {
     "data": {
      "text/plain": [
       "{'secondary_cleaner_output_tail_sol': 1605,\n",
       " 'rougher_state_floatbank10_e_air': 436,\n",
       " 'rougher_input_floatbank11_xanthate': 428,\n",
       " 'primary_cleaner_output_concentrate_sol': 286,\n",
       " 'secondary_cleaner_state_floatbank2_a_air': 217,\n",
       " 'final_output_concentrate_sol': 211,\n",
       " 'rougher_input_feed_size': 144,\n",
       " 'final_output_tail_pb': 100,\n",
       " 'primary_cleaner_input_xanthate': 100,\n",
       " 'rougher_input_feed_pb': 100,\n",
       " 'primary_cleaner_output_concentrate_pb': 86,\n",
       " 'rougher_input_feed_sol': 78,\n",
       " 'primary_cleaner_output_tail_sol': 46,\n",
       " 'rougher_input_floatbank11_sulfate': 36,\n",
       " 'primary_cleaner_input_depressant': 32,\n",
       " 'rougher_input_floatbank10_sulfate': 29,\n",
       " 'rougher_output_concentrate_sol': 22,\n",
       " 'secondary_cleaner_state_floatbank2_b_air': 21,\n",
       " 'primary_cleaner_input_sulfate': 20,\n",
       " 'primary_cleaner_output_tail_pb': 15,\n",
       " 'secondary_cleaner_output_tail_pb': 10,\n",
       " 'rougher_input_feed_rate': 8,\n",
       " 'rougher_input_floatbank10_xanthate': 8,\n",
       " 'secondary_cleaner_state_floatbank4_a_air': 6,\n",
       " 'final_output_tail_sol': 5,\n",
       " 'primary_cleaner_state_floatbank8_a_air': 4,\n",
       " 'primary_cleaner_state_floatbank8_b_air': 4,\n",
       " 'secondary_cleaner_state_floatbank3_a_air': 4,\n",
       " 'primary_cleaner_state_floatbank8_d_air': 3,\n",
       " 'primary_cleaner_state_floatbank8_c_air': 2,\n",
       " 'secondary_cleaner_output_tail_ag': 2,\n",
       " 'secondary_cleaner_state_floatbank6_a_air': 2,\n",
       " 'final_output_concentrate_ag': 1,\n",
       " 'final_output_concentrate_pb': 1,\n",
       " 'primary_cleaner_output_tail_ag': 1,\n",
       " 'primary_cleaner_state_floatbank8_a_level': 1,\n",
       " 'primary_cleaner_state_floatbank8_b_level': 1,\n",
       " 'primary_cleaner_state_floatbank8_c_level': 1,\n",
       " 'primary_cleaner_state_floatbank8_d_level': 1,\n",
       " 'rougher_calculation_sulfate_to_au_concentrate': 1,\n",
       " 'rougher_calculation_floatbank10_sulfate_to_au_feed': 1,\n",
       " 'rougher_calculation_floatbank11_sulfate_to_au_feed': 1,\n",
       " 'rougher_output_tail_ag': 1,\n",
       " 'rougher_state_floatbank10_a_air': 1,\n",
       " 'rougher_state_floatbank10_a_level': 1,\n",
       " 'rougher_state_floatbank10_b_air': 1,\n",
       " 'rougher_state_floatbank10_b_level': 1,\n",
       " 'rougher_state_floatbank10_c_air': 1,\n",
       " 'rougher_state_floatbank10_c_level': 1,\n",
       " 'secondary_cleaner_state_floatbank2_a_level': 1,\n",
       " 'secondary_cleaner_state_floatbank2_b_level': 1,\n",
       " 'secondary_cleaner_state_floatbank3_a_level': 1,\n",
       " 'secondary_cleaner_state_floatbank3_b_air': 1,\n",
       " 'secondary_cleaner_state_floatbank3_b_level': 1,\n",
       " 'secondary_cleaner_state_floatbank4_a_level': 1,\n",
       " 'secondary_cleaner_state_floatbank4_b_air': 1,\n",
       " 'secondary_cleaner_state_floatbank4_b_level': 1,\n",
       " 'secondary_cleaner_state_floatbank5_a_air': 1,\n",
       " 'secondary_cleaner_state_floatbank5_a_level': 1,\n",
       " 'secondary_cleaner_state_floatbank5_b_air': 1,\n",
       " 'secondary_cleaner_state_floatbank5_b_level': 1,\n",
       " 'secondary_cleaner_state_floatbank6_a_level': 1}"
      ]
     },
     "metadata": {},
     "output_type": "display_data"
    },
    {
     "data": {
      "text/plain": [
       "'Общий % строк с пропусками: 22.14%'"
      ]
     },
     "metadata": {},
     "output_type": "display_data"
    },
    {
     "data": {
      "text/plain": [
       "'****************************************************************************************************'"
      ]
     },
     "metadata": {},
     "output_type": "display_data"
    },
    {
     "data": {
      "text/plain": [
       "{'rougher_input_floatbank11_xanthate': 25,\n",
       " 'rougher_input_feed_sol': 21,\n",
       " 'secondary_cleaner_state_floatbank3_a_air': 9,\n",
       " 'rougher_input_floatbank11_sulfate': 8,\n",
       " 'primary_cleaner_input_depressant': 5,\n",
       " 'rougher_input_floatbank10_sulfate': 5,\n",
       " 'primary_cleaner_input_sulfate': 4,\n",
       " 'primary_cleaner_input_xanthate': 4,\n",
       " 'rougher_input_feed_rate': 3,\n",
       " 'secondary_cleaner_state_floatbank2_a_air': 3,\n",
       " 'secondary_cleaner_state_floatbank2_b_air': 2,\n",
       " 'rougher_input_feed_size': 1}"
      ]
     },
     "metadata": {},
     "output_type": "display_data"
    },
    {
     "data": {
      "text/plain": [
       "'Общий % строк с пропусками: 1.15%'"
      ]
     },
     "metadata": {},
     "output_type": "display_data"
    },
    {
     "data": {
      "text/plain": [
       "'****************************************************************************************************'"
      ]
     },
     "metadata": {},
     "output_type": "display_data"
    },
    {
     "data": {
      "text/plain": [
       "{'secondary_cleaner_output_tail_sol': 1748,\n",
       " 'rougher_input_floatbank11_xanthate': 453,\n",
       " 'rougher_state_floatbank10_e_air': 436,\n",
       " 'primary_cleaner_output_concentrate_sol': 370,\n",
       " 'secondary_cleaner_state_floatbank2_a_air': 220,\n",
       " 'final_output_concentrate_sol': 211,\n",
       " 'rougher_input_feed_size': 145,\n",
       " 'primary_cleaner_output_concentrate_pb': 116,\n",
       " 'primary_cleaner_input_xanthate': 104,\n",
       " 'final_output_tail_pb': 101,\n",
       " 'rougher_input_feed_pb': 100,\n",
       " 'rougher_input_feed_sol': 99,\n",
       " 'primary_cleaner_output_tail_sol': 62,\n",
       " 'rougher_input_floatbank11_sulfate': 44,\n",
       " 'primary_cleaner_input_depressant': 37,\n",
       " 'rougher_input_floatbank10_sulfate': 34,\n",
       " 'primary_cleaner_input_sulfate': 24,\n",
       " 'rougher_output_concentrate_sol': 23,\n",
       " 'secondary_cleaner_state_floatbank2_b_air': 23,\n",
       " 'primary_cleaner_output_tail_pb': 21,\n",
       " 'secondary_cleaner_state_floatbank3_a_air': 13,\n",
       " 'secondary_cleaner_output_tail_pb': 12,\n",
       " 'rougher_input_feed_rate': 11,\n",
       " 'rougher_input_floatbank10_xanthate': 8,\n",
       " 'final_output_tail_sol': 6,\n",
       " 'secondary_cleaner_state_floatbank4_a_air': 6,\n",
       " 'primary_cleaner_output_tail_ag': 4,\n",
       " 'primary_cleaner_state_floatbank8_a_air': 4,\n",
       " 'primary_cleaner_state_floatbank8_b_air': 4,\n",
       " 'primary_cleaner_state_floatbank8_d_air': 3,\n",
       " 'primary_cleaner_state_floatbank8_c_air': 2,\n",
       " 'rougher_calculation_sulfate_to_au_concentrate': 2,\n",
       " 'rougher_calculation_floatbank10_sulfate_to_au_feed': 2,\n",
       " 'rougher_calculation_floatbank11_sulfate_to_au_feed': 2,\n",
       " 'secondary_cleaner_output_tail_ag': 2,\n",
       " 'secondary_cleaner_state_floatbank6_a_air': 2,\n",
       " 'final_output_concentrate_ag': 1,\n",
       " 'final_output_concentrate_pb': 1,\n",
       " 'final_output_tail_ag': 1,\n",
       " 'primary_cleaner_state_floatbank8_a_level': 1,\n",
       " 'primary_cleaner_state_floatbank8_b_level': 1,\n",
       " 'primary_cleaner_state_floatbank8_c_level': 1,\n",
       " 'primary_cleaner_state_floatbank8_d_level': 1,\n",
       " 'rougher_output_tail_ag': 1,\n",
       " 'rougher_state_floatbank10_a_air': 1,\n",
       " 'rougher_state_floatbank10_a_level': 1,\n",
       " 'rougher_state_floatbank10_b_air': 1,\n",
       " 'rougher_state_floatbank10_b_level': 1,\n",
       " 'rougher_state_floatbank10_c_air': 1,\n",
       " 'rougher_state_floatbank10_c_level': 1,\n",
       " 'secondary_cleaner_state_floatbank2_a_level': 1,\n",
       " 'secondary_cleaner_state_floatbank2_b_level': 1,\n",
       " 'secondary_cleaner_state_floatbank3_a_level': 1,\n",
       " 'secondary_cleaner_state_floatbank3_b_air': 1,\n",
       " 'secondary_cleaner_state_floatbank3_b_level': 1,\n",
       " 'secondary_cleaner_state_floatbank4_a_level': 1,\n",
       " 'secondary_cleaner_state_floatbank4_b_air': 1,\n",
       " 'secondary_cleaner_state_floatbank4_b_level': 1,\n",
       " 'secondary_cleaner_state_floatbank5_a_air': 1,\n",
       " 'secondary_cleaner_state_floatbank5_a_level': 1,\n",
       " 'secondary_cleaner_state_floatbank5_b_air': 1,\n",
       " 'secondary_cleaner_state_floatbank5_b_level': 1,\n",
       " 'secondary_cleaner_state_floatbank6_a_level': 1}"
      ]
     },
     "metadata": {},
     "output_type": "display_data"
    },
    {
     "data": {
      "text/plain": [
       "'Общий % строк с пропусками: 17.21%'"
      ]
     },
     "metadata": {},
     "output_type": "display_data"
    },
    {
     "data": {
      "text/plain": [
       "'****************************************************************************************************'"
      ]
     },
     "metadata": {},
     "output_type": "display_data"
    }
   ],
   "source": [
    "search_na(df_train)\n",
    "\n",
    "search_na(df_test)\n",
    "\n",
    "search_na(df_full)"
   ]
  },
  {
   "cell_type": "markdown",
   "id": "f246ca8c",
   "metadata": {},
   "source": [
    "Соседние строчки в датасете похожи по значениям. Воспользуемся этим для заполнения пропусков."
   ]
  },
  {
   "cell_type": "code",
   "execution_count": 10,
   "id": "865672f2",
   "metadata": {},
   "outputs": [],
   "source": [
    "df_train = df_train.fillna(method='ffill')\n",
    "df_test = df_test.fillna(method='ffill')\n",
    "df_full = df_full.fillna(method='ffill')"
   ]
  },
  {
   "cell_type": "markdown",
   "id": "7e11d3c3",
   "metadata": {},
   "source": [
    "Проверим дубликаты строк."
   ]
  },
  {
   "cell_type": "code",
   "execution_count": 11,
   "id": "9570ed25",
   "metadata": {},
   "outputs": [
    {
     "name": "stdout",
     "output_type": "stream",
     "text": [
      "0\n",
      "0\n",
      "0\n"
     ]
    }
   ],
   "source": [
    "print(df_train.duplicated().sum())\n",
    "print(df_test.duplicated().sum())\n",
    "print(df_full.duplicated().sum())"
   ]
  },
  {
   "cell_type": "markdown",
   "id": "305b0b06",
   "metadata": {},
   "source": [
    "Проверим правильность вычисления коэффициента обогащения. Добавим новый столбец с рассчитанными данными."
   ]
  },
  {
   "cell_type": "code",
   "execution_count": 12,
   "id": "519025b5",
   "metadata": {},
   "outputs": [
    {
     "name": "stdout",
     "output_type": "stream",
     "text": [
      "9.73512347450521e-15\n"
     ]
    }
   ],
   "source": [
    "df_train['rougher_recovery_calculated'] = (\n",
    "    (df_train['rougher_output_concentrate_au'] * (df_train['rougher_input_feed_au'] - df_train['rougher_output_tail_au'])) / \n",
    "    (df_train['rougher_input_feed_au'] * (df_train['rougher_output_concentrate_au'] - df_train['rougher_output_tail_au'])) * 100\n",
    ")\n",
    "\n",
    "print(mean_absolute_error(df_train['rougher_output_recovery'], df_train['rougher_recovery_calculated']))"
   ]
  },
  {
   "cell_type": "markdown",
   "id": "eccf1285",
   "metadata": {},
   "source": [
    "МАЕ показывает, что разница между существующими и нашими вычислениями очень мала. Удалим новообразованный столбец, далее он нам не понадобится."
   ]
  },
  {
   "cell_type": "code",
   "execution_count": 13,
   "id": "08476788",
   "metadata": {},
   "outputs": [],
   "source": [
    "df_train = df_train.drop('rougher_recovery_calculated', axis=1)"
   ]
  },
  {
   "cell_type": "markdown",
   "id": "d827ce07",
   "metadata": {},
   "source": [
    "Посмотрим, какие поля отсутствуют в `df_test`."
   ]
  },
  {
   "cell_type": "code",
   "execution_count": 14,
   "id": "842f26fe",
   "metadata": {},
   "outputs": [
    {
     "data": {
      "text/plain": [
       "['primary_cleaner_output_concentrate_au',\n",
       " 'primary_cleaner_output_concentrate_pb',\n",
       " 'final_output_recovery',\n",
       " 'rougher_output_concentrate_pb',\n",
       " 'rougher_calculation_floatbank10_sulfate_to_au_feed',\n",
       " 'final_output_concentrate_au',\n",
       " 'final_output_concentrate_sol',\n",
       " 'final_output_tail_ag',\n",
       " 'rougher_output_concentrate_sol',\n",
       " 'primary_cleaner_output_tail_ag',\n",
       " 'rougher_output_concentrate_ag',\n",
       " 'rougher_calculation_sulfate_to_au_concentrate',\n",
       " 'final_output_concentrate_pb',\n",
       " 'primary_cleaner_output_tail_sol',\n",
       " 'final_output_concentrate_ag',\n",
       " 'secondary_cleaner_output_tail_au',\n",
       " 'rougher_output_recovery',\n",
       " 'rougher_output_tail_pb',\n",
       " 'primary_cleaner_output_concentrate_sol',\n",
       " 'primary_cleaner_output_concentrate_ag',\n",
       " 'final_output_tail_sol',\n",
       " 'rougher_calculation_floatbank11_sulfate_to_au_feed',\n",
       " 'secondary_cleaner_output_tail_ag',\n",
       " 'rougher_output_tail_sol',\n",
       " 'primary_cleaner_output_tail_au',\n",
       " 'rougher_output_concentrate_au',\n",
       " 'secondary_cleaner_output_tail_pb',\n",
       " 'secondary_cleaner_output_tail_sol',\n",
       " 'final_output_tail_au',\n",
       " 'rougher_output_tail_ag',\n",
       " 'final_output_tail_pb',\n",
       " 'primary_cleaner_output_tail_pb',\n",
       " 'rougher_calculation_au_pb_ratio',\n",
       " 'rougher_output_tail_au']"
      ]
     },
     "metadata": {},
     "output_type": "display_data"
    }
   ],
   "source": [
    "missing_cols = list(set(df_train.columns)-set(df_test.columns))\n",
    "\n",
    "display(missing_cols)"
   ]
  },
  {
   "cell_type": "markdown",
   "id": "71c27e66",
   "metadata": {},
   "source": [
    "При анализе отсутствующих полей видим, что пропущенные признаки замеряются во время и после технологического процесса, поэтому мы не можем в дальнейшем их использовать для обучения модели и предсказаний."
   ]
  },
  {
   "cell_type": "markdown",
   "id": "17bd650b",
   "metadata": {},
   "source": [
    " добавим в тестовую выборку целевые признаки,\n",
    " для удобства их выделения в дальнейшем\n",
    "df_test = df_test.merge(df_full[['date', 'rougher_output_recovery', 'final_output_recovery']], on='date', how='left')"
   ]
  },
  {
   "cell_type": "markdown",
   "id": "5f8fdfc9",
   "metadata": {},
   "source": [
    "##  Проанализируйте данные"
   ]
  },
  {
   "cell_type": "markdown",
   "id": "8d7e493d",
   "metadata": {},
   "source": [
    "### Как меняется концентрация металлов (Au, Ag, Pb) на различных этапах очистки."
   ]
  },
  {
   "cell_type": "markdown",
   "id": "0b2c450d",
   "metadata": {},
   "source": [
    "Создадим таблицы с данными по концентрации отдельных веществ на всех этапах обогащения.\n",
    "\n",
    "По каждому элементу пройдемся отдельным циклом.\n",
    "\n",
    "Создаем отдельные датафреймы для продукта и для отвальных хвостов."
   ]
  },
  {
   "cell_type": "code",
   "execution_count": 15,
   "id": "68d047ed",
   "metadata": {},
   "outputs": [
    {
     "name": "stdout",
     "output_type": "stream",
     "text": [
      "['final_output_concentrate_au', 'primary_cleaner_output_concentrate_au', 'rougher_input_feed_au', 'rougher_output_concentrate_au']\n",
      "['final_output_tail_au', 'primary_cleaner_output_tail_au', 'rougher_output_tail_au', 'secondary_cleaner_output_tail_au']\n"
     ]
    }
   ],
   "source": [
    "au_concentrate = []\n",
    "au_tail_concentrate = []\n",
    "\n",
    "# cначала вытягиваем названия колонок, в которых есть нужные нам значения\n",
    "for col in df_train.columns:\n",
    "    if 'tail_au' in col:\n",
    "        au_tail_concentrate.append(col)\n",
    "    if (('concentrate_au' in col) | ('feed_au' in col)):\n",
    "        au_concentrate.append(col)\n",
    "\n",
    "print(au_concentrate)\n",
    "print(au_tail_concentrate)\n",
    "\n",
    "# теперь вытягиваем сами значения\n",
    "au_concentrate = df_train[au_concentrate]\n",
    "au_tail_concentrate = df_train[au_tail_concentrate]"
   ]
  },
  {
   "cell_type": "code",
   "execution_count": 16,
   "id": "8062de81",
   "metadata": {},
   "outputs": [
    {
     "name": "stdout",
     "output_type": "stream",
     "text": [
      "['final_output_concentrate_ag', 'primary_cleaner_output_concentrate_ag', 'rougher_input_feed_ag', 'rougher_output_concentrate_ag']\n",
      "['final_output_tail_ag', 'primary_cleaner_output_tail_ag', 'rougher_output_tail_ag', 'secondary_cleaner_output_tail_ag']\n"
     ]
    }
   ],
   "source": [
    "ag_concentrate = []\n",
    "ag_tail_concentrate = []\n",
    "\n",
    "for col in df_train.columns:\n",
    "    if 'tail_ag' in col:\n",
    "        ag_tail_concentrate.append(col)\n",
    "    if (('concentrate_ag' in col) | ('feed_ag' in col)):\n",
    "        ag_concentrate.append(col)\n",
    "\n",
    "print(ag_concentrate)\n",
    "print(ag_tail_concentrate)\n",
    "\n",
    "ag_concentrate = df_train[ag_concentrate]\n",
    "ag_tail_concentrate = df_train[ag_tail_concentrate]"
   ]
  },
  {
   "cell_type": "code",
   "execution_count": 17,
   "id": "ffc2f728",
   "metadata": {},
   "outputs": [
    {
     "name": "stdout",
     "output_type": "stream",
     "text": [
      "['final_output_concentrate_pb', 'primary_cleaner_output_concentrate_pb', 'rougher_input_feed_pb', 'rougher_output_concentrate_pb']\n",
      "['final_output_tail_pb', 'primary_cleaner_output_tail_pb', 'rougher_output_tail_pb', 'secondary_cleaner_output_tail_pb']\n"
     ]
    }
   ],
   "source": [
    "pb_concentrate = []\n",
    "pb_tail_concentrate = []\n",
    "\n",
    "for col in df_train.columns:\n",
    "    if 'tail_pb' in col:\n",
    "        pb_tail_concentrate.append(col)\n",
    "    if (('concentrate_pb' in col) | ('feed_pb' in col)):\n",
    "        pb_concentrate.append(col)\n",
    "\n",
    "print(pb_concentrate)\n",
    "print(pb_tail_concentrate)\n",
    "\n",
    "pb_concentrate = df_train[pb_concentrate]\n",
    "pb_tail_concentrate = df_train[pb_tail_concentrate]"
   ]
  },
  {
   "cell_type": "code",
   "execution_count": 18,
   "id": "7bfdf4fa",
   "metadata": {},
   "outputs": [
    {
     "name": "stdout",
     "output_type": "stream",
     "text": [
      "['final_output_concentrate_sol', 'primary_cleaner_output_concentrate_sol', 'rougher_input_feed_sol', 'rougher_output_concentrate_sol']\n",
      "['final_output_tail_sol', 'primary_cleaner_output_tail_sol', 'rougher_output_tail_sol', 'secondary_cleaner_output_tail_sol']\n"
     ]
    }
   ],
   "source": [
    "sol_concentrate = []\n",
    "sol_tail_concentrate = []\n",
    "\n",
    "for col in df_train.columns:\n",
    "    if 'tail_sol' in col:\n",
    "        sol_tail_concentrate.append(col)\n",
    "    elif (('concentrate_sol' in col) | ('feed_sol' in col)):\n",
    "        sol_concentrate.append(col)\n",
    "\n",
    "print(sol_concentrate)\n",
    "print(sol_tail_concentrate)\n",
    "\n",
    "sol_concentrate = df_train[sol_concentrate]\n",
    "sol_tail_concentrate = df_train[sol_tail_concentrate]"
   ]
  },
  {
   "cell_type": "markdown",
   "id": "66478550",
   "metadata": {},
   "source": [
    "Т.к. данные мы будем визуализировать на графиках, нужен правильный порядок столбцов. Изменим расположении столбцов, расположив их в порядке прохождения этапов обогащения."
   ]
  },
  {
   "cell_type": "code",
   "execution_count": 19,
   "id": "a96b3000",
   "metadata": {},
   "outputs": [],
   "source": [
    "#для золота\n",
    "au_concentrate = au_concentrate[['rougher_input_feed_au', \n",
    "                                 'rougher_output_concentrate_au', \n",
    "                                 'primary_cleaner_output_concentrate_au', \n",
    "                                 'final_output_concentrate_au']]\n",
    "au_tail_concentrate = au_tail_concentrate[['rougher_output_tail_au', \n",
    "                                           'primary_cleaner_output_tail_au', \n",
    "                                           'secondary_cleaner_output_tail_au', \n",
    "                                           'final_output_tail_au']]\n",
    "\n",
    "#для серебра\n",
    "ag_concentrate = ag_concentrate[['rougher_input_feed_ag', \n",
    "                                 'rougher_output_concentrate_ag', \n",
    "                                 'primary_cleaner_output_concentrate_ag', \n",
    "                                 'final_output_concentrate_ag']]\n",
    "ag_tail_concentrate = ag_tail_concentrate[['rougher_output_tail_ag', \n",
    "                                           'primary_cleaner_output_tail_ag', \n",
    "                                           'secondary_cleaner_output_tail_ag', \n",
    "                                           'final_output_tail_ag']]\n",
    "\n",
    "#для свинца\n",
    "pb_concentrate = pb_concentrate[['rougher_input_feed_pb', \n",
    "                                 'rougher_output_concentrate_pb', \n",
    "                                 'primary_cleaner_output_concentrate_pb', \n",
    "                                 'final_output_concentrate_pb']]\n",
    "pb_tail_concentrate = pb_tail_concentrate[['rougher_output_tail_pb', \n",
    "                                           'primary_cleaner_output_tail_pb', \n",
    "                                           'secondary_cleaner_output_tail_pb', \n",
    "                                           'final_output_tail_pb']]"
   ]
  },
  {
   "cell_type": "markdown",
   "id": "bb514803",
   "metadata": {},
   "source": [
    "По графику изменения концентрации золота мы видим, что его содержание в продукте растет по мере обогащения, что логично. В отвальных хвостах концентрация максимальная во время первичной и вторичной очистки."
   ]
  },
  {
   "cell_type": "code",
   "execution_count": 20,
   "id": "e95af253",
   "metadata": {},
   "outputs": [
    {
     "data": {
      "image/png": "[encoded data removed]"
     },
     "metadata": {},
     "output_type": "display_data"
    }
   ],
   "source": [
    "fig = make_subplots(rows=2, cols=1, subplot_titles=['Продукт', 'Отвальные хвосты'])\n",
    "\n",
    "fig.add_trace(go.Scatter(y=au_concentrate.mean(),\n",
    "                         x=au_concentrate.columns), \n",
    "              row=1, col=1\n",
    "             )\n",
    "\n",
    "fig.add_trace(go.Scatter(y=au_tail_concentrate.mean(), \n",
    "                         x=au_tail_concentrate.columns), \n",
    "              row=2, col=1\n",
    "             )\n",
    "\n",
    "\n",
    "fig.update_layout(title='Концетрация золота на разных этапах очистки', \n",
    "                  showlegend=False,\n",
    "                  height = 500,\n",
    "                  width = 1500\n",
    "                  )\n",
    "\n",
    "fig.show('png')"
   ]
  },
  {
   "cell_type": "markdown",
   "id": "d336b7e2",
   "metadata": {},
   "source": [
    "Наибольшее количество серебра в продукте наблюдается после процедуры флотации, далее концентрация снижается с каждым этапом. В отвальных хвостах содержание серебра достигает пика после первичной очистки, далее снижается."
   ]
  },
  {
   "cell_type": "code",
   "execution_count": 21,
   "id": "e4718cfb",
   "metadata": {},
   "outputs": [
    {
     "data": {
      "image/png": "[encoded data removed]"
     },
     "metadata": {},
     "output_type": "display_data"
    }
   ],
   "source": [
    "fig = make_subplots(rows=2, cols=1, subplot_titles=['Продукт', 'Отвальные хвосты'])\n",
    "\n",
    "fig.add_trace(go.Scatter(y=ag_concentrate.mean(),\n",
    "                         x=ag_concentrate.columns),\n",
    "              row=1, col=1\n",
    "             )\n",
    "\n",
    "fig.add_trace(go.Scatter(y=ag_tail_concentrate.mean(),\n",
    "                         x=ag_tail_concentrate.columns),\n",
    "              row=2, col=1\n",
    "             )\n",
    "\n",
    "\n",
    "fig.update_layout(title='Концетрация серебра на разных этапах очистки',\n",
    "                  showlegend=False,\n",
    "                  height = 500,\n",
    "                  width = 1500\n",
    "                  )\n",
    "\n",
    "fig.show('png')"
   ]
  },
  {
   "cell_type": "markdown",
   "id": "102973f7",
   "metadata": {},
   "source": [
    "Концентрация свинца растет с каждым этапом очистки, достигая максимальных значений после всех этапов. В отвальных хвостах же количество свинца до вторичной очистки растет, далее снижается."
   ]
  },
  {
   "cell_type": "code",
   "execution_count": 22,
   "id": "5e9a3ec3",
   "metadata": {
    "scrolled": true
   },
   "outputs": [
    {
     "data": {
      "image/png": "[encoded data removed]"
     },
     "metadata": {},
     "output_type": "display_data"
    }
   ],
   "source": [
    "fig = make_subplots(rows=2, cols=1, subplot_titles=['Продукт', 'Отвальные хвосты'])\n",
    "\n",
    "fig.add_trace(go.Scatter(y=pb_concentrate.mean(), \n",
    "                         x=pb_concentrate.columns),\n",
    "              row=1, col=1\n",
    "             )\n",
    "\n",
    "fig.add_trace(go.Scatter(y=pb_tail_concentrate.mean(),\n",
    "                         x=pb_tail_concentrate.columns),\n",
    "              row=2, col=1\n",
    "             )\n",
    "\n",
    "\n",
    "fig.update_layout(title='Концетрация свинца на разных этапах очистки',\n",
    "                  showlegend=False,\n",
    "                  height = 500,\n",
    "                  width = 1500)\n",
    "\n",
    "fig.show('png')"
   ]
  },
  {
   "cell_type": "markdown",
   "id": "0523bcb2",
   "metadata": {},
   "source": [
    "### Распределение гранул сырья на тестовой и обучающей выборках"
   ]
  },
  {
   "cell_type": "markdown",
   "id": "02a66bb8",
   "metadata": {},
   "source": [
    "Перед обучением модели необходимо сравнить распределения размера гранул в тестовой и обучающих выборках.\n",
    "\n",
    "Сперва посмотрим, в каких колонках собрана эта информация."
   ]
  },
  {
   "cell_type": "code",
   "execution_count": 23,
   "id": "45f09f39",
   "metadata": {},
   "outputs": [
    {
     "name": "stdout",
     "output_type": "stream",
     "text": [
      "primary_cleaner_input_feed_size\n",
      "rougher_input_feed_size\n"
     ]
    }
   ],
   "source": [
    "for col in df_full.columns:\n",
    "    if 'feed_size' in col:\n",
    "        print(col)"
   ]
  },
  {
   "cell_type": "markdown",
   "id": "d484f506",
   "metadata": {},
   "source": [
    "Сравним распределения значений в указанных колонках между датафреймами df_train и df_test.\n",
    "\n",
    "На гистограммах видно, что распределения близки к нормальным, а также, что данные в поле `rougher_input_feed_size` имеют сильную скошенность вправо. По графикам можно сделать вывод, что распределения обоих датасетов схожи."
   ]
  },
  {
   "cell_type": "code",
   "execution_count": 24,
   "id": "096fc3a7",
   "metadata": {
    "scrolled": true
   },
   "outputs": [
    {
     "data": {
      "image/png": "[encoded data removed]"
     },
     "metadata": {},
     "output_type": "display_data"
    }
   ],
   "source": [
    "fig = make_subplots(rows=2, cols=2,\n",
    "                    subplot_titles=['df_train, очистка',\n",
    "                                    'df_train, флотация',\n",
    "                                    'df_test, очистка',\n",
    "                                    'df_test, флотация']\n",
    "                   )\n",
    "\n",
    "fig.add_trace(go.Histogram(x=df_train['primary_cleaner_input_feed_size'], \n",
    "                           nbinsx=80,\n",
    "                           histnorm='probability'),\n",
    "              row=1, col=1\n",
    "             )\n",
    "\n",
    "fig.add_trace(go.Histogram(x=df_train['rougher_input_feed_size'], \n",
    "                           nbinsx=80,\n",
    "                           histnorm='probability'),\n",
    "              row=1, col=2\n",
    "             )\n",
    "\n",
    "fig.add_trace(go.Histogram(x=df_test['primary_cleaner_input_feed_size'],\n",
    "                           nbinsx=80,\n",
    "                           histnorm='probability'),\n",
    "              row=2, col=1\n",
    "             )\n",
    "\n",
    "fig.add_trace(go.Histogram(x=df_test['rougher_input_feed_size'],\n",
    "                           nbinsx=80,\n",
    "                           histnorm='probability'),\n",
    "              row=2, col=2\n",
    "             )\n",
    "\n",
    "fig.update_layout(title='Распределение feed_size', \n",
    "                  showlegend=False,\n",
    "                  height=600,\n",
    "                  width=1200\n",
    "                 )\n",
    "\n",
    "fig.show('png')"
   ]
  },
  {
   "cell_type": "markdown",
   "id": "c4a5af51",
   "metadata": {},
   "source": [
    "### Суммарная концентрация веществ на разных этапах"
   ]
  },
  {
   "cell_type": "markdown",
   "id": "c95cd85a",
   "metadata": {},
   "source": [
    "Также изучим суммарную концентрацию золота, серебра и свинца на разных этапах очистки. \n",
    "Для этого сложим концентрации всех металлах на разных стадиях очистки и выведем гистограммы суммарных распределений."
   ]
  },
  {
   "cell_type": "code",
   "execution_count": 25,
   "id": "43071cf7",
   "metadata": {
    "scrolled": false
   },
   "outputs": [],
   "source": [
    "df_train['final_output_concentrate_all'] = (df_train['final_output_concentrate_au'] + \n",
    "                                               df_train['final_output_concentrate_ag'] +\n",
    "                                               df_train['final_output_concentrate_pb']\n",
    "                                              )\n",
    "\n",
    "df_train['primary_cleaner_output_concentrate_all'] = (df_train['primary_cleaner_output_concentrate_au'] + \n",
    "                                               df_train['primary_cleaner_output_concentrate_ag'] +\n",
    "                                               df_train['primary_cleaner_output_concentrate_pb']\n",
    "                                              )\n",
    "\n",
    "df_train['rougher_input_feed_all'] = (df_train['rougher_input_feed_au'] + \n",
    "                                               df_train['rougher_input_feed_ag'] +\n",
    "                                               df_train['rougher_input_feed_pb']\n",
    "                                              )\n",
    "\n",
    "df_train['rougher_output_concentrate_all'] = (df_train['rougher_output_concentrate_au'] + \n",
    "                                               df_train['rougher_output_concentrate_ag'] +\n",
    "                                               df_train['rougher_output_concentrate_pb']\n",
    "                                              )"
   ]
  },
  {
   "cell_type": "code",
   "execution_count": 26,
   "id": "ae204daa",
   "metadata": {},
   "outputs": [
    {
     "data": {
      "image/png": "[encoded data removed]"
     },
     "metadata": {},
     "output_type": "display_data"
    }
   ],
   "source": [
    "fig = make_subplots(rows=2, cols=2,\n",
    "                    subplot_titles=['final_output',\n",
    "                                    'primary_cleaner',\n",
    "                                    'rougher_input',\n",
    "                                    'rougher_output']\n",
    "                   )\n",
    "\n",
    "fig.add_trace(go.Histogram(x=df_train['final_output_concentrate_all'], \n",
    "                           nbinsx=80),\n",
    "              row=1, col=1\n",
    "             )\n",
    "\n",
    "fig.add_trace(go.Histogram(x=df_train['primary_cleaner_output_concentrate_all'], \n",
    "                           nbinsx=80),\n",
    "              row=1, col=2\n",
    "             )\n",
    "\n",
    "fig.add_trace(go.Histogram(x=df_train['rougher_input_feed_all'],\n",
    "                           nbinsx=80),\n",
    "              row=2, col=1\n",
    "             )\n",
    "\n",
    "fig.add_trace(go.Histogram(x=df_train['rougher_output_concentrate_all'],\n",
    "                           nbinsx=80),\n",
    "              row=2, col=2\n",
    "             )\n",
    "\n",
    "fig.update_layout(title='Распределения суммарных концентраций веществ', \n",
    "                  showlegend=False,\n",
    "                  height=600,\n",
    "                  width=1200)\n",
    "\n",
    "fig.show('png')"
   ]
  },
  {
   "cell_type": "markdown",
   "id": "a00f3d0f",
   "metadata": {},
   "source": [
    "Удалим явные выбросы."
   ]
  },
  {
   "cell_type": "code",
   "execution_count": 27,
   "id": "3d9eac59",
   "metadata": {},
   "outputs": [],
   "source": [
    "df_train = df_train.query('(final_output_concentrate_all > 1) and (primary_cleaner_output_concentrate_all > 1) and (rougher_input_feed_all > 5) and(rougher_output_concentrate_all > 1)')"
   ]
  },
  {
   "cell_type": "markdown",
   "id": "dacf6fe8",
   "metadata": {},
   "source": [
    "Проверим, какой процент данных было потеряно после очистки. "
   ]
  },
  {
   "cell_type": "code",
   "execution_count": 28,
   "id": "4e19b153",
   "metadata": {},
   "outputs": [
    {
     "name": "stdout",
     "output_type": "stream",
     "text": [
      "0.04\n"
     ]
    }
   ],
   "source": [
    "df_train_after = df_train.shape[0]\n",
    "\n",
    "print(round((df_train_before-df_train_after)/df_train_before, 2))"
   ]
  },
  {
   "cell_type": "markdown",
   "id": "381d355d",
   "metadata": {},
   "source": [
    "Удалим новые поля, т.к. мы не можем их использовать при моделировании."
   ]
  },
  {
   "cell_type": "code",
   "execution_count": 29,
   "id": "f8ab5b10",
   "metadata": {},
   "outputs": [],
   "source": [
    "df_train = df_train.drop(['final_output_concentrate_all',\n",
    "                          'primary_cleaner_output_concentrate_all',\n",
    "                          'rougher_input_feed_all',\n",
    "                          'rougher_output_concentrate_all'\n",
    "                         ], axis=1)"
   ]
  },
  {
   "cell_type": "markdown",
   "id": "27ac778a",
   "metadata": {},
   "source": [
    "## Построение модели"
   ]
  },
  {
   "cell_type": "markdown",
   "id": "bfae0dc8",
   "metadata": {},
   "source": [
    "### Подготовка"
   ]
  },
  {
   "cell_type": "markdown",
   "id": "097e4209",
   "metadata": {},
   "source": [
    "Перед тем, как приступить с обучению моделей, необходимо подготовить данные.\n",
    "\n",
    "Сначала выделим фичи, которые нужны для предсказания эффективности очистки концентрата на каждом из этапов."
   ]
  },
  {
   "cell_type": "code",
   "execution_count": 30,
   "id": "a7f1033c",
   "metadata": {},
   "outputs": [],
   "source": [
    "# выделяем поля, относящиеся к этапу флотации\n",
    "# и которые есть в тестовом датасете\n",
    "rough_cols = []\n",
    "\n",
    "for col in df_train.columns.to_list():\n",
    "    if ('rougher' in col) & (col not in missing_cols):\n",
    "        rough_cols.append(col)"
   ]
  },
  {
   "cell_type": "markdown",
   "id": "72e6457f",
   "metadata": {},
   "source": [
    "Выделим отдельно фичи и целевой признак. В процессе из обучающего датасета уберем признаки, которых нет в тестовом датасете, т.к. их нельзя использовать при обучении."
   ]
  },
  {
   "cell_type": "code",
   "execution_count": 31,
   "id": "9eb1d633",
   "metadata": {},
   "outputs": [],
   "source": [
    "# мы прогнозируем эффективность обогащения чернового и финального концентрата,\n",
    "# поэтому создаем 2 отдельные обучающие выборки\n",
    "\n",
    "# для первого этапа берем фичи только первого этапа\n",
    "features_train_rougher = df_train[rough_cols]\n",
    "# для второго этапа берем фичи двух этапов\n",
    "features_train_final = df_train.drop(missing_cols, axis=1).drop('date', axis=1)\n",
    "target_train_rougher = df_train['rougher_output_recovery']\n",
    "target_train_final = df_train['final_output_recovery']\n",
    "\n",
    "features_test_rougher = df_test[rough_cols]\n",
    "features_test_final = df_test.drop('date', axis=1)\n",
    "target_test_rougher = df_test.merge(df_full[['date', 'rougher_output_recovery',]], on='date', how='left')['rougher_output_recovery']\n",
    "target_test_final = df_test.merge(df_full[['date', 'final_output_recovery']], on='date', how='left')['final_output_recovery']"
   ]
  },
  {
   "cell_type": "markdown",
   "id": "80ebfee5",
   "metadata": {},
   "source": [
    "Пишем функцию для вычисления sMAPE. Итоговая метрика рассчитывается на основе метрик каждого из этапов."
   ]
  },
  {
   "cell_type": "code",
   "execution_count": 32,
   "id": "64f251cd",
   "metadata": {},
   "outputs": [],
   "source": [
    "def smape(real, pred):\n",
    "    return 1/len(real) * sum(2 * abs(real-pred) / (abs(real) + abs(pred))*100)\n",
    "\n",
    "def smape_final(rougher, final):\n",
    "    return rougher*0.25 + final*0.75\n",
    "\n",
    "smape_scorer = make_scorer(smape, greater_is_better=False)"
   ]
  },
  {
   "cell_type": "markdown",
   "id": "52afbf89",
   "metadata": {},
   "source": [
    "### Обучение моделей"
   ]
  },
  {
   "cell_type": "markdown",
   "id": "eef2a4f0",
   "metadata": {},
   "source": [
    "Обучим и сравним 3 модели: DecisionTree, RandomForest, LinearRegression. Выберем наилучшую модель на основе нашей метрики."
   ]
  },
  {
   "cell_type": "markdown",
   "id": "3be14453",
   "metadata": {},
   "source": [
    "#### DecisionTreeRegressor"
   ]
  },
  {
   "cell_type": "markdown",
   "id": "0ea1be7a",
   "metadata": {},
   "source": [
    "Для подбора максимальной глубины решающего дерева используем GridSearchCV. Отдельно обучим модель для чернового и итогового продуктов."
   ]
  },
  {
   "cell_type": "code",
   "execution_count": 33,
   "id": "cdca820f",
   "metadata": {},
   "outputs": [],
   "source": [
    "class dt_model:\n",
    "    def __init__(self):\n",
    "        self.rougher_model = DecisionTreeRegressor(random_state=0)\n",
    "        self.final_model = DecisionTreeRegressor(random_state=0)\n",
    "    \n",
    "    def fit(self, x_train_rougher, x_train_final, y_train_rougher, y_train_final, parameters):\n",
    "\n",
    "        # модель для этапа флотации\n",
    "        self.rougher_model = GridSearchCV(self.rougher_model, parameters, cv=8, scoring=smape_scorer)\n",
    "        self.rougher_model.fit(x_train_rougher, y_train_rougher)\n",
    "\n",
    "        self.rougher_score = self.rougher_model.best_score_\n",
    "\n",
    "        print('SMAPE rougher:', self.rougher_score)\n",
    "\n",
    "        # модель для финального этапа очистки\n",
    "        self.final_model = GridSearchCV(self.final_model, parameters, cv=8, scoring=smape_scorer)\n",
    "        self.final_model.fit(x_train_final, y_train_final)\n",
    "\n",
    "        self.final_score = self.final_model.best_score_\n",
    "\n",
    "        print('SMAPE final:', self.final_score)\n",
    "\n",
    "        # итоговая метрика\n",
    "        dt_score = smape_final(self.rougher_score, self.final_score)\n",
    "        print('Итоговый SMAPE дерева:', dt_score)\n",
    "\n",
    "    def test(self, x_test_rougher, x_test_final, y_test_rougher, y_test_final):\n",
    "        self.test_predictions_rougher = self.rougher_model.predict(x_test_rougher)\n",
    "        self.test_predictions_final = self.final_model.predict(x_test_final)\n",
    "\n",
    "        self.test_rougher_score = smape(y_test_rougher, self.test_predictions_rougher)\n",
    "        self.test_final_score = smape(y_test_final, self.test_predictions_final)\n",
    "\n",
    "        total_score = smape_final(self.test_rougher_score, self.test_final_score)\n",
    "        \n",
    "        return total_score\n"
   ]
  },
  {
   "cell_type": "code",
   "execution_count": 34,
   "id": "44e7cb51",
   "metadata": {},
   "outputs": [
    {
     "name": "stdout",
     "output_type": "stream",
     "text": [
      "SMAPE rougher: -6.9636328147111595\n",
      "SMAPE final: -9.259266183762303\n",
      "Итоговый SMAPE дерева: -8.685357841499517\n"
     ]
    }
   ],
   "source": [
    "dt = dt_model()\n",
    "params = {'max_depth':range(1, 20)}\n",
    "\n",
    "dt.fit(features_train_rougher, features_train_final, target_train_rougher, target_train_final, params)"
   ]
  },
  {
   "cell_type": "markdown",
   "id": "c7646aa1",
   "metadata": {},
   "source": [
    "#### RandomForestRegressor"
   ]
  },
  {
   "cell_type": "markdown",
   "id": "32c85853",
   "metadata": {},
   "source": [
    "RandomForest обучим с помощью GridSearchCV. Также вычислим SMAPE для итоговой модели."
   ]
  },
  {
   "cell_type": "code",
   "execution_count": 35,
   "id": "47b73b7c",
   "metadata": {},
   "outputs": [],
   "source": [
    "class rf_model:\n",
    "    def __init__(self):\n",
    "        self.rougher_model = RandomForestRegressor(random_state=0)\n",
    "        self.final_model = RandomForestRegressor(random_state=0)\n",
    "    \n",
    "    def fit(self, x_train_rougher, x_train_final, y_train_rougher, y_train_final, parameters):\n",
    "\n",
    "        # модель для этапа флотации\n",
    "        self.rougher_model = GridSearchCV(self.rougher_model, parameters, cv=8, scoring=smape_scorer, n_jobs=4)\n",
    "        self.rougher_model.fit(x_train_rougher, y_train_rougher)\n",
    "\n",
    "        self.rougher_score = self.rougher_model.best_score_\n",
    "\n",
    "        print('SMAPE rougher:', self.rougher_score)\n",
    "\n",
    "        # модель для финального этапа очистки\n",
    "        self.final_model = GridSearchCV(self.final_model, parameters, cv=8, scoring=smape_scorer, n_jobs=4)\n",
    "        self.final_model.fit(x_train_final, y_train_final)\n",
    "\n",
    "        self.final_score = self.final_model.best_score_\n",
    "\n",
    "        print('SMAPE final:', self.final_score)\n",
    "\n",
    "        # итоговая метрика\n",
    "        rf_score = smape_final(self.rougher_score, self.final_score)\n",
    "        print('Итоговый SMAPE рандомного леса:', rf_score)\n",
    "\n",
    "    def test(self, x_test_rougher, x_test_final, y_test_rougher, y_test_final):\n",
    "        self.test_predictions_rougher = self.rougher_model.predict(x_test_rougher)\n",
    "        self.test_predictions_final = self.final_model.predict(x_test_final)\n",
    "\n",
    "        self.test_rougher_score = smape(y_test_rougher, self.test_predictions_rougher)\n",
    "        self.test_final_score = smape(y_test_final, self.test_predictions_final)\n",
    "\n",
    "        total_score = smape_final(self.test_rougher_score, self.test_final_score)\n",
    "        \n",
    "        return total_score\n"
   ]
  },
  {
   "cell_type": "code",
   "execution_count": 36,
   "id": "586d5df9",
   "metadata": {},
   "outputs": [
    {
     "name": "stdout",
     "output_type": "stream",
     "text": [
      "SMAPE rougher: -6.520006265163042\n",
      "SMAPE final: -8.978716721995234\n",
      "Итоговый SMAPE рандомного леса: -8.364039107787185\n"
     ]
    }
   ],
   "source": [
    "rf = rf_model()\n",
    "params = {'max_depth':range(1, 20), 'n_estimators':range(20, 101, 10)}\n",
    "\n",
    "rf.fit(features_train_rougher, features_train_final, target_train_rougher, target_train_final, params)"
   ]
  },
  {
   "cell_type": "markdown",
   "id": "98bfdd2b",
   "metadata": {},
   "source": [
    "#### LinearRegression"
   ]
  },
  {
   "cell_type": "markdown",
   "id": "ce17b647",
   "metadata": {},
   "source": [
    "Третьим алгоритмом возьмем линейную регрессию, для которой также вычислим SMAPE."
   ]
  },
  {
   "cell_type": "code",
   "execution_count": 37,
   "id": "d40e0d73",
   "metadata": {},
   "outputs": [],
   "source": [
    "class lr_model:\n",
    "    def __init__(self):\n",
    "        self.rougher_model = LinearRegression()\n",
    "        self.final_model = LinearRegression()\n",
    "    \n",
    "    def fit(self, x_train_rougher, x_train_final, y_train_rougher, y_train_final):\n",
    "\n",
    "        # модель для этапа флотации\n",
    "        self.rougher_score = cross_val_score(self.rougher_model, x_train_rougher, y_train_rougher, scoring=smape_scorer, cv=8).mean()\n",
    "\n",
    "        print('SMAPE rougher:', self.rougher_score)\n",
    "\n",
    "        # модель для финального этапа очистки\n",
    "        self.final_score = cross_val_score(self.final_model, x_train_final, y_train_final, scoring=smape_scorer, cv=8).mean()\n",
    "\n",
    "        print('SMAPE final:', self.final_score)\n",
    "\n",
    "        # итоговая метрика\n",
    "        self.lr_score = smape_final(self.rougher_score, self.final_score)\n",
    "        print('Итоговый SMAPE линейной регрессии', self.lr_score)\n",
    "\n",
    "    def test(self, x_test_rougher, x_test_final, y_test_rougher, y_test_final):\n",
    "        self.test_predictions_rougher = self.rougher_model.predict(x_test_rougher)\n",
    "        self.test_predictions_final = self.final_model.predict(x_test_final)\n",
    "\n",
    "        self.test_rougher_score = smape(y_test_rougher, self.test_predictions_rougher)\n",
    "        self.test_final_score = smape(y_test_final, self.test_predictions_final)\n",
    "\n",
    "        total_score = smape_final(self.test_rougher_score, self.test_final_score)\n",
    "        \n",
    "        return total_score"
   ]
  },
  {
   "cell_type": "code",
   "execution_count": 38,
   "id": "55674260",
   "metadata": {},
   "outputs": [
    {
     "name": "stdout",
     "output_type": "stream",
     "text": [
      "SMAPE rougher: -6.169900863389286\n",
      "SMAPE final: -10.517520804297812\n",
      "Итоговый SMAPE линейной регрессии -9.430615819070681\n"
     ]
    }
   ],
   "source": [
    "lr = lr_model()\n",
    "\n",
    "lr.fit(features_train_rougher, features_train_final, target_train_rougher, target_train_final)"
   ]
  },
  {
   "cell_type": "markdown",
   "id": "bdfe16a4",
   "metadata": {},
   "source": [
    "Таким образом, наилучший результат на нашей выборке получила модель решающего дерева.."
   ]
  },
  {
   "cell_type": "markdown",
   "id": "66386caa",
   "metadata": {},
   "source": [
    "## Использование модели на тестовой выборке"
   ]
  },
  {
   "cell_type": "markdown",
   "id": "0e07aa6b",
   "metadata": {},
   "source": [
    "Протестируем модель на тестовой выборке."
   ]
  },
  {
   "cell_type": "code",
   "execution_count": 39,
   "id": "3dd7fd58",
   "metadata": {},
   "outputs": [
    {
     "data": {
      "text/plain": [
       "9.356480738867951"
      ]
     },
     "execution_count": 39,
     "metadata": {},
     "output_type": "execute_result"
    }
   ],
   "source": [
    "rf.test(features_test_rougher, features_test_final, target_test_rougher, target_test_final)"
   ]
  },
  {
   "cell_type": "markdown",
   "id": "a1c7cd53",
   "metadata": {},
   "source": [
    "## Сравнение с DummyRegressor"
   ]
  },
  {
   "cell_type": "markdown",
   "id": "a91dc32c",
   "metadata": {},
   "source": [
    "Сравним итоговый результат модели с результатом константной модели."
   ]
  },
  {
   "cell_type": "code",
   "execution_count": 40,
   "id": "45bd58b9",
   "metadata": {},
   "outputs": [],
   "source": [
    "base_model_rougher = DummyRegressor(strategy='median')\n",
    "base_model_final = DummyRegressor(strategy='median')\n",
    "\n",
    "base_model_rougher.fit(features_train_rougher, target_train_rougher)\n",
    "base_model_rougher_predict = base_model_rougher.predict(features_test_rougher)\n",
    "\n",
    "base_model_final.fit(features_train_final, target_train_final)\n",
    "base_model_final_predict = base_model_final.predict(features_test_final)"
   ]
  },
  {
   "cell_type": "code",
   "execution_count": 42,
   "id": "f1ed913f",
   "metadata": {},
   "outputs": [
    {
     "name": "stdout",
     "output_type": "stream",
     "text": [
      "9.45034819345668\n"
     ]
    }
   ],
   "source": [
    "base_model_score = smape_final(smape(base_model_rougher_predict, target_test_rougher), \n",
    "                               smape(base_model_final_predict, target_test_final)\n",
    "                              )\n",
    "print(base_model_score)"
   ]
  },
  {
   "cell_type": "markdown",
   "id": "becb4a75",
   "metadata": {},
   "source": [
    "sMAPE DummyRegressor получился больше, таким образом, наша модель показывает лучшие результаты."
   ]
  },
  {
   "cell_type": "markdown",
   "id": "dde40f22",
   "metadata": {},
   "source": [
    "## Итоги"
   ]
  },
  {
   "cell_type": "markdown",
   "id": "dcc33777",
   "metadata": {},
   "source": [
    "Мы проверили предобработку и изучили данные по очистке золота и обучили модель, которая предсказывает коэффициент очистки золота.\n",
    "\n",
    "Описали концентрацию золота, серебра и свинца на разных этапах очистки, а также суммарную концентрацию этих веществ.\n",
    "\n",
    "Наилучшие результаты показал алгоритм RandomForest. sMAPE этой модели на тестовой выборке составил 9.36."
   ]
  }
 ],
 "metadata": {
  "ExecuteTimeLog": [
   {
    "duration": 1834,
    "start_time": "2022-12-18T06:49:17.706Z"
   },
   {
    "duration": 184,
    "start_time": "2022-12-18T06:49:19.542Z"
   },
   {
    "duration": 0,
    "start_time": "2022-12-18T06:49:19.730Z"
   },
   {
    "duration": 0,
    "start_time": "2022-12-18T06:49:19.732Z"
   },
   {
    "duration": 0,
    "start_time": "2022-12-18T06:49:19.733Z"
   },
   {
    "duration": 0,
    "start_time": "2022-12-18T06:49:19.734Z"
   },
   {
    "duration": 0,
    "start_time": "2022-12-18T06:49:19.735Z"
   },
   {
    "duration": 0,
    "start_time": "2022-12-18T06:49:19.737Z"
   },
   {
    "duration": 0,
    "start_time": "2022-12-18T06:49:19.752Z"
   },
   {
    "duration": 0,
    "start_time": "2022-12-18T06:49:19.753Z"
   },
   {
    "duration": 0,
    "start_time": "2022-12-18T06:49:19.754Z"
   },
   {
    "duration": 0,
    "start_time": "2022-12-18T06:49:19.756Z"
   },
   {
    "duration": 0,
    "start_time": "2022-12-18T06:49:19.758Z"
   },
   {
    "duration": 0,
    "start_time": "2022-12-18T06:49:19.759Z"
   },
   {
    "duration": 0,
    "start_time": "2022-12-18T06:49:19.761Z"
   },
   {
    "duration": 0,
    "start_time": "2022-12-18T06:49:19.762Z"
   },
   {
    "duration": 0,
    "start_time": "2022-12-18T06:49:19.764Z"
   },
   {
    "duration": 0,
    "start_time": "2022-12-18T06:49:19.765Z"
   },
   {
    "duration": 0,
    "start_time": "2022-12-18T06:49:19.767Z"
   },
   {
    "duration": 0,
    "start_time": "2022-12-18T06:49:19.769Z"
   },
   {
    "duration": 1,
    "start_time": "2022-12-18T06:49:19.770Z"
   },
   {
    "duration": 0,
    "start_time": "2022-12-18T06:49:19.772Z"
   },
   {
    "duration": 0,
    "start_time": "2022-12-18T06:49:19.774Z"
   },
   {
    "duration": 0,
    "start_time": "2022-12-18T06:49:19.776Z"
   },
   {
    "duration": 0,
    "start_time": "2022-12-18T06:49:19.778Z"
   },
   {
    "duration": 0,
    "start_time": "2022-12-18T06:49:19.779Z"
   },
   {
    "duration": 0,
    "start_time": "2022-12-18T06:49:19.780Z"
   },
   {
    "duration": 0,
    "start_time": "2022-12-18T06:49:19.782Z"
   },
   {
    "duration": 0,
    "start_time": "2022-12-18T06:49:19.783Z"
   },
   {
    "duration": 0,
    "start_time": "2022-12-18T06:49:19.785Z"
   },
   {
    "duration": 3,
    "start_time": "2022-12-18T06:52:04.377Z"
   },
   {
    "duration": 1848,
    "start_time": "2022-12-18T06:52:04.383Z"
   },
   {
    "duration": 3,
    "start_time": "2022-12-18T06:52:06.232Z"
   },
   {
    "duration": 103,
    "start_time": "2022-12-18T06:52:06.237Z"
   },
   {
    "duration": 105,
    "start_time": "2022-12-18T06:52:06.342Z"
   },
   {
    "duration": 6,
    "start_time": "2022-12-18T06:52:06.450Z"
   },
   {
    "duration": 38,
    "start_time": "2022-12-18T06:52:06.457Z"
   },
   {
    "duration": 124,
    "start_time": "2022-12-18T06:52:06.497Z"
   },
   {
    "duration": 41,
    "start_time": "2022-12-18T06:52:06.623Z"
   },
   {
    "duration": 240,
    "start_time": "2022-12-18T06:52:06.668Z"
   },
   {
    "duration": 7,
    "start_time": "2022-12-18T06:52:06.910Z"
   },
   {
    "duration": 18,
    "start_time": "2022-12-18T06:52:06.919Z"
   },
   {
    "duration": 33,
    "start_time": "2022-12-18T06:52:06.939Z"
   },
   {
    "duration": 27,
    "start_time": "2022-12-18T06:52:06.974Z"
   },
   {
    "duration": 29,
    "start_time": "2022-12-18T06:52:07.003Z"
   },
   {
    "duration": 25,
    "start_time": "2022-12-18T06:52:07.033Z"
   },
   {
    "duration": 20,
    "start_time": "2022-12-18T06:52:07.060Z"
   },
   {
    "duration": 43,
    "start_time": "2022-12-18T06:52:07.081Z"
   },
   {
    "duration": 38,
    "start_time": "2022-12-18T06:52:07.126Z"
   },
   {
    "duration": 12,
    "start_time": "2022-12-18T06:52:07.166Z"
   },
   {
    "duration": 24,
    "start_time": "2022-12-18T06:52:07.179Z"
   },
   {
    "duration": 32,
    "start_time": "2022-12-18T06:52:07.205Z"
   },
   {
    "duration": 330,
    "start_time": "2022-12-18T06:52:07.239Z"
   },
   {
    "duration": 30,
    "start_time": "2022-12-18T06:52:07.571Z"
   },
   {
    "duration": 70,
    "start_time": "2022-12-18T06:52:07.603Z"
   },
   {
    "duration": 5,
    "start_time": "2022-12-18T06:52:07.675Z"
   },
   {
    "duration": 238,
    "start_time": "2022-12-18T06:52:07.681Z"
   },
   {
    "duration": 295,
    "start_time": "2022-12-18T06:52:07.923Z"
   },
   {
    "duration": 80,
    "start_time": "2022-12-18T06:52:08.221Z"
   },
   {
    "duration": 60,
    "start_time": "2022-12-18T06:52:08.303Z"
   },
   {
    "duration": 10,
    "start_time": "2022-12-18T07:01:31.480Z"
   },
   {
    "duration": 4,
    "start_time": "2022-12-18T07:01:31.943Z"
   },
   {
    "duration": 3,
    "start_time": "2022-12-18T07:01:32.374Z"
   },
   {
    "duration": 364,
    "start_time": "2022-12-18T07:01:33.629Z"
   },
   {
    "duration": 7,
    "start_time": "2022-12-18T07:01:34.525Z"
   },
   {
    "duration": 7,
    "start_time": "2022-12-18T07:01:35.039Z"
   },
   {
    "duration": 5,
    "start_time": "2022-12-18T07:01:35.677Z"
   },
   {
    "duration": 15,
    "start_time": "2022-12-18T07:01:36.469Z"
   },
   {
    "duration": 71,
    "start_time": "2022-12-18T07:01:59.149Z"
   },
   {
    "duration": 1956,
    "start_time": "2022-12-18T07:03:06.749Z"
   },
   {
    "duration": 1729,
    "start_time": "2022-12-18T07:03:08.707Z"
   },
   {
    "duration": 3,
    "start_time": "2022-12-18T07:03:10.438Z"
   },
   {
    "duration": 82,
    "start_time": "2022-12-18T07:03:10.442Z"
   },
   {
    "duration": 134,
    "start_time": "2022-12-18T07:03:10.527Z"
   },
   {
    "duration": 6,
    "start_time": "2022-12-18T07:03:10.663Z"
   },
   {
    "duration": 8,
    "start_time": "2022-12-18T07:03:10.672Z"
   },
   {
    "duration": 145,
    "start_time": "2022-12-18T07:03:10.683Z"
   },
   {
    "duration": 26,
    "start_time": "2022-12-18T07:03:10.850Z"
   },
   {
    "duration": 251,
    "start_time": "2022-12-18T07:03:10.878Z"
   },
   {
    "duration": 7,
    "start_time": "2022-12-18T07:03:11.131Z"
   },
   {
    "duration": 20,
    "start_time": "2022-12-18T07:03:11.139Z"
   },
   {
    "duration": 32,
    "start_time": "2022-12-18T07:03:11.160Z"
   },
   {
    "duration": 21,
    "start_time": "2022-12-18T07:03:11.195Z"
   },
   {
    "duration": 24,
    "start_time": "2022-12-18T07:03:11.218Z"
   },
   {
    "duration": 22,
    "start_time": "2022-12-18T07:03:11.244Z"
   },
   {
    "duration": 10,
    "start_time": "2022-12-18T07:03:11.268Z"
   },
   {
    "duration": 28,
    "start_time": "2022-12-18T07:03:11.279Z"
   },
   {
    "duration": 22,
    "start_time": "2022-12-18T07:03:11.309Z"
   },
   {
    "duration": 14,
    "start_time": "2022-12-18T07:03:11.333Z"
   },
   {
    "duration": 28,
    "start_time": "2022-12-18T07:03:11.349Z"
   },
   {
    "duration": 22,
    "start_time": "2022-12-18T07:03:11.379Z"
   },
   {
    "duration": 346,
    "start_time": "2022-12-18T07:03:11.403Z"
   },
   {
    "duration": 32,
    "start_time": "2022-12-18T07:03:11.751Z"
   },
   {
    "duration": 82,
    "start_time": "2022-12-18T07:03:11.785Z"
   },
   {
    "duration": 10,
    "start_time": "2022-12-18T07:03:11.868Z"
   },
   {
    "duration": 251,
    "start_time": "2022-12-18T07:03:11.881Z"
   },
   {
    "duration": 318,
    "start_time": "2022-12-18T07:03:12.134Z"
   },
   {
    "duration": 63,
    "start_time": "2022-12-18T07:03:12.454Z"
   },
   {
    "duration": 66,
    "start_time": "2022-12-18T07:03:12.519Z"
   },
   {
    "duration": 11,
    "start_time": "2022-12-18T07:03:12.587Z"
   },
   {
    "duration": 24,
    "start_time": "2022-12-18T07:03:12.600Z"
   },
   {
    "duration": 32,
    "start_time": "2022-12-18T07:03:12.626Z"
   },
   {
    "duration": 370,
    "start_time": "2022-12-18T07:03:12.659Z"
   },
   {
    "duration": 11,
    "start_time": "2022-12-18T07:03:13.031Z"
   },
   {
    "duration": 30,
    "start_time": "2022-12-18T07:03:13.051Z"
   },
   {
    "duration": 24,
    "start_time": "2022-12-18T07:03:13.083Z"
   },
   {
    "duration": 2011,
    "start_time": "2022-12-19T13:21:28.006Z"
   },
   {
    "duration": 1497,
    "start_time": "2022-12-19T13:21:30.020Z"
   },
   {
    "duration": 3,
    "start_time": "2022-12-19T13:21:31.519Z"
   },
   {
    "duration": 104,
    "start_time": "2022-12-19T13:21:31.523Z"
   },
   {
    "duration": 119,
    "start_time": "2022-12-19T13:21:31.630Z"
   },
   {
    "duration": 5,
    "start_time": "2022-12-19T13:21:31.751Z"
   },
   {
    "duration": 37,
    "start_time": "2022-12-19T13:21:31.757Z"
   },
   {
    "duration": 148,
    "start_time": "2022-12-19T13:21:31.796Z"
   },
   {
    "duration": 22,
    "start_time": "2022-12-19T13:21:31.945Z"
   },
   {
    "duration": 285,
    "start_time": "2022-12-19T13:21:31.969Z"
   },
   {
    "duration": 8,
    "start_time": "2022-12-19T13:21:32.256Z"
   },
   {
    "duration": 42,
    "start_time": "2022-12-19T13:21:32.265Z"
   },
   {
    "duration": 54,
    "start_time": "2022-12-19T13:21:32.308Z"
   },
   {
    "duration": 29,
    "start_time": "2022-12-19T13:21:32.365Z"
   },
   {
    "duration": 49,
    "start_time": "2022-12-19T13:21:32.395Z"
   },
   {
    "duration": 47,
    "start_time": "2022-12-19T13:21:32.451Z"
   },
   {
    "duration": 56,
    "start_time": "2022-12-19T13:21:32.500Z"
   },
   {
    "duration": 30,
    "start_time": "2022-12-19T13:21:32.558Z"
   },
   {
    "duration": 51,
    "start_time": "2022-12-19T13:21:32.590Z"
   },
   {
    "duration": 36,
    "start_time": "2022-12-19T13:21:32.645Z"
   },
   {
    "duration": 12,
    "start_time": "2022-12-19T13:21:32.683Z"
   },
   {
    "duration": 18,
    "start_time": "2022-12-19T13:21:32.697Z"
   },
   {
    "duration": 6,
    "start_time": "2022-12-19T13:21:32.717Z"
   },
   {
    "duration": 332,
    "start_time": "2022-12-19T13:21:32.725Z"
   },
   {
    "duration": 35,
    "start_time": "2022-12-19T13:21:33.059Z"
   },
   {
    "duration": 72,
    "start_time": "2022-12-19T13:21:33.095Z"
   },
   {
    "duration": 3,
    "start_time": "2022-12-19T13:21:33.169Z"
   },
   {
    "duration": 299,
    "start_time": "2022-12-19T13:21:33.174Z"
   },
   {
    "duration": 3,
    "start_time": "2022-12-19T13:21:33.475Z"
   },
   {
    "duration": 19,
    "start_time": "2022-12-19T13:21:33.480Z"
   },
   {
    "duration": 45,
    "start_time": "2022-12-19T13:21:33.501Z"
   },
   {
    "duration": 50,
    "start_time": "2022-12-19T13:21:33.548Z"
   },
   {
    "duration": 302,
    "start_time": "2022-12-19T13:21:33.600Z"
   },
   {
    "duration": 37,
    "start_time": "2022-12-19T13:21:33.904Z"
   },
   {
    "duration": 8,
    "start_time": "2022-12-19T13:21:33.944Z"
   },
   {
    "duration": 26,
    "start_time": "2022-12-19T13:25:35.225Z"
   },
   {
    "duration": 5,
    "start_time": "2022-12-19T13:25:35.796Z"
   },
   {
    "duration": 2,
    "start_time": "2022-12-19T13:25:36.277Z"
   },
   {
    "duration": 3,
    "start_time": "2022-12-19T13:25:37.558Z"
   },
   {
    "duration": 67,
    "start_time": "2022-12-19T13:25:40.264Z"
   },
   {
    "duration": 3,
    "start_time": "2022-12-19T13:25:44.827Z"
   },
   {
    "duration": 127,
    "start_time": "2022-12-19T13:25:51.051Z"
   },
   {
    "duration": 19,
    "start_time": "2022-12-19T13:26:27.145Z"
   },
   {
    "duration": 3,
    "start_time": "2022-12-19T13:26:45.805Z"
   },
   {
    "duration": 2125,
    "start_time": "2022-12-20T13:15:11.936Z"
   },
   {
    "duration": 1435,
    "start_time": "2022-12-20T13:15:14.063Z"
   },
   {
    "duration": 3,
    "start_time": "2022-12-20T13:15:15.500Z"
   },
   {
    "duration": 142,
    "start_time": "2022-12-20T13:15:15.513Z"
   },
   {
    "duration": 119,
    "start_time": "2022-12-20T13:15:15.657Z"
   },
   {
    "duration": 6,
    "start_time": "2022-12-20T13:15:15.778Z"
   },
   {
    "duration": 15,
    "start_time": "2022-12-20T13:15:15.786Z"
   },
   {
    "duration": 132,
    "start_time": "2022-12-20T13:15:15.815Z"
   },
   {
    "duration": 22,
    "start_time": "2022-12-20T13:15:15.949Z"
   },
   {
    "duration": 277,
    "start_time": "2022-12-20T13:15:15.973Z"
   },
   {
    "duration": 9,
    "start_time": "2022-12-20T13:15:16.252Z"
   },
   {
    "duration": 6,
    "start_time": "2022-12-20T13:15:16.264Z"
   },
   {
    "duration": 25,
    "start_time": "2022-12-20T13:15:16.272Z"
   },
   {
    "duration": 32,
    "start_time": "2022-12-20T13:15:16.299Z"
   },
   {
    "duration": 27,
    "start_time": "2022-12-20T13:15:16.335Z"
   },
   {
    "duration": 12,
    "start_time": "2022-12-20T13:15:16.364Z"
   },
   {
    "duration": 16,
    "start_time": "2022-12-20T13:15:16.378Z"
   },
   {
    "duration": 33,
    "start_time": "2022-12-20T13:15:16.396Z"
   },
   {
    "duration": 12,
    "start_time": "2022-12-20T13:15:16.438Z"
   },
   {
    "duration": 7,
    "start_time": "2022-12-20T13:15:16.452Z"
   },
   {
    "duration": 15,
    "start_time": "2022-12-20T13:15:16.461Z"
   },
   {
    "duration": 13,
    "start_time": "2022-12-20T13:15:16.479Z"
   },
   {
    "duration": 481,
    "start_time": "2022-12-20T13:15:16.494Z"
   },
   {
    "duration": 55,
    "start_time": "2022-12-20T13:15:16.977Z"
   },
   {
    "duration": 102,
    "start_time": "2022-12-20T13:15:17.033Z"
   },
   {
    "duration": 5,
    "start_time": "2022-12-20T13:15:17.138Z"
   },
   {
    "duration": 319,
    "start_time": "2022-12-20T13:15:17.145Z"
   },
   {
    "duration": 3,
    "start_time": "2022-12-20T13:15:17.470Z"
   },
   {
    "duration": 43,
    "start_time": "2022-12-20T13:15:17.476Z"
   },
   {
    "duration": 12,
    "start_time": "2022-12-20T13:15:17.524Z"
   },
   {
    "duration": 84,
    "start_time": "2022-12-20T13:15:17.538Z"
   },
   {
    "duration": 342,
    "start_time": "2022-12-20T13:15:17.623Z"
   },
   {
    "duration": 16,
    "start_time": "2022-12-20T13:15:17.967Z"
   },
   {
    "duration": 40,
    "start_time": "2022-12-20T13:15:17.985Z"
   },
   {
    "duration": 33,
    "start_time": "2022-12-20T13:15:18.027Z"
   },
   {
    "duration": 4,
    "start_time": "2022-12-20T13:15:18.063Z"
   },
   {
    "duration": 44,
    "start_time": "2022-12-20T13:15:18.069Z"
   },
   {
    "duration": 32,
    "start_time": "2022-12-20T13:15:18.116Z"
   },
   {
    "duration": 11,
    "start_time": "2022-12-20T13:15:18.151Z"
   },
   {
    "duration": 133,
    "start_time": "2022-12-20T13:15:22.536Z"
   },
   {
    "duration": 19,
    "start_time": "2022-12-20T13:15:39.080Z"
   },
   {
    "duration": 24,
    "start_time": "2022-12-20T13:15:58.597Z"
   }
  ],
  "kernelspec": {
   "display_name": "Python 3 (ipykernel)",
   "language": "python",
   "name": "python3"
  },
  "language_info": {
   "codemirror_mode": {
    "name": "ipython",
    "version": 3
   },
   "file_extension": ".py",
   "mimetype": "text/x-python",
   "name": "python",
   "nbconvert_exporter": "python",
   "pygments_lexer": "ipython3",
   "version": "3.11.4"
  },
  "toc": {
   "base_numbering": 1,
   "nav_menu": {},
   "number_sections": true,
   "sideBar": true,
   "skip_h1_title": true,
   "title_cell": "Table of Contents",
   "title_sidebar": "Contents",
   "toc_cell": false,
   "toc_position": {
    "height": "calc(100% - 180px)",
    "left": "10px",
    "top": "150px",
    "width": "184px"
   },
   "toc_section_display": true,
   "toc_window_display": true
  }
 },
 "nbformat": 4,
 "nbformat_minor": 5
}
